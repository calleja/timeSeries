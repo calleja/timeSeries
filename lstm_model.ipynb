{
 "cells": [
  {
   "cell_type": "code",
   "execution_count": 3,
   "metadata": {
    "collapsed": true
   },
   "outputs": [],
   "source": [
    "import pandas as pd\n",
    "import requests\n",
    "import matplotlib.pyplot as plt\n",
    "import statsmodels.api as sm\n",
    "import datetime\n",
    "from statsmodels.graphics.tsaplots import plot_acf\n",
    "import math\n",
    "import numpy as np\n",
    "import seaborn as sbs\n",
    "from sklearn import preprocessing\n",
    "from sklearn.metrics import mean_squared_error, r2_score, mean_absolute_error\n",
    "from keras.models import Sequential\n",
    "from keras.layers import Dense\n",
    "from keras.layers import LSTM\n",
    "import h5py\n",
    "\n",
    "%matplotlib inline \n",
    " \n",
    "plt.rcParams['figure.figsize']=(8,6)\n",
    "plt.style.use('ggplot')"
   ]
  },
  {
   "cell_type": "code",
   "execution_count": 4,
   "metadata": {
    "collapsed": true
   },
   "outputs": [],
   "source": [
    "base_currency = 'BTC'\n",
    "#argument needs to be in the form of a string\n",
    "def get250Day(ticker):\n",
    "        ''' Acquire historical prices from CRYPTOCOMPARE '''\n",
    "        url='https://min-api.cryptocompare.com/data/histoday'\n",
    "        #will return a str\n",
    "#prices from last 200 days\n",
    "        parameters= {'fsym':ticker, 'tsym': base_currency, 'e': 'Bittrex', 'aggregate':1,'limit':250}\n",
    "        \n",
    "        r=requests.get(url,parameters)\n",
    "        #handle this error in the calling class\n",
    "        j_obj=r.json()\n",
    "        if j_obj['Response']=='Error':\n",
    "            print(j_obj)\n",
    "            #print(\"fetch didn't work\")\n",
    "            raise RuntimeError\n",
    "        raw_time=j_obj['Data']\n",
    "        df=pd.DataFrame.from_dict(raw_time)\n",
    "        df['time']=df['time'].apply(lambda x: datetime.datetime.fromtimestamp(x))\n",
    "        df.index=pd.to_datetime(df.time)\n",
    "        return(df)"
   ]
  },
  {
   "cell_type": "code",
   "execution_count": 5,
   "metadata": {
    "collapsed": true
   },
   "outputs": [],
   "source": [
    "mro_df=get250Day('XMR')"
   ]
  },
  {
   "cell_type": "code",
   "execution_count": 6,
   "metadata": {
    "collapsed": true
   },
   "outputs": [],
   "source": [
    "#prepare the dataframe for volatility calc\n",
    "mro_df['hi_low_log']=mro_df.apply(lambda x: np.log(x['high']/x['low'])**2,axis=1)"
   ]
  },
  {
   "cell_type": "code",
   "execution_count": 7,
   "metadata": {
    "collapsed": true
   },
   "outputs": [],
   "source": [
    "mro_df['mid']=mro_df.apply(lambda x: np.mean([x['high'],x['low']]),axis=1)"
   ]
  },
  {
   "cell_type": "code",
   "execution_count": 8,
   "metadata": {
    "collapsed": true
   },
   "outputs": [],
   "source": [
    "def parkinson(df,window):\n",
    "    #return(np.log(max(df['high'])/min(df['low']))**2\n",
    "    return(np.sqrt((1/(4*np.log(2))*sum(df['hi_low_log']))/window))"
   ]
  },
  {
   "cell_type": "code",
   "execution_count": 9,
   "metadata": {
    "collapsed": true
   },
   "outputs": [],
   "source": [
    "def rolling_apply(df,window):\n",
    "    i=np.arange(df.shape[0]+1-window)\n",
    "    results=np.zeros(df.shape[0])\n",
    "    for g in i:\n",
    "        results[g+window-1]=parkinson(df.iloc[g:window+g,],window)\n",
    "    return(results)"
   ]
  },
  {
   "cell_type": "code",
   "execution_count": 10,
   "metadata": {
    "collapsed": true
   },
   "outputs": [],
   "source": [
    "mro_df['vol_3day']=rolling_apply(mro_df,3)\n",
    "mro_df['vol_15day']=rolling_apply(mro_df,15)"
   ]
  },
  {
   "cell_type": "code",
   "execution_count": 11,
   "metadata": {
    "collapsed": true
   },
   "outputs": [],
   "source": [
    "#rolling mean\n",
    "roll_2=mro_df[['mid']].rolling(2).mean()\n",
    "roll_5=mro_df[['mid']].rolling(5).mean()\n",
    "roll_15=mro_df[['mid']].rolling(15).mean()"
   ]
  },
  {
   "cell_type": "code",
   "execution_count": 12,
   "metadata": {
    "collapsed": true
   },
   "outputs": [],
   "source": [
    "roll_2.columns=[i+'_MA2' for i in roll_2.columns]\n",
    "roll_5.columns=[i+'_MA5' for i in roll_5.columns]\n",
    "roll_15.columns=[i+'_MA15' for i in roll_15.columns]"
   ]
  },
  {
   "cell_type": "code",
   "execution_count": 13,
   "metadata": {
    "collapsed": true
   },
   "outputs": [],
   "source": [
    "#concatenate the dataframes\n",
    "aggd=pd.concat([mro_df,roll_2,roll_5,roll_15],axis=1)"
   ]
  },
  {
   "cell_type": "code",
   "execution_count": 14,
   "metadata": {
    "collapsed": true
   },
   "outputs": [],
   "source": [
    "#test=aggd.apply(lambda x: (x[8]/x[11], x[8]/x[12], x[8]/x[13]),axis=1)\n",
    "test2=aggd.apply(lambda x: x[8]/x[11],axis=1)\n",
    "test5=aggd.apply(lambda x: x[8]/x[12],axis=1)\n",
    "test15=aggd.apply(lambda x: x[8]/x[13],axis=1)"
   ]
  },
  {
   "cell_type": "code",
   "execution_count": 15,
   "metadata": {},
   "outputs": [
    {
     "data": {
      "text/plain": [
       "(251, 3)"
      ]
     },
     "execution_count": 15,
     "metadata": {},
     "output_type": "execute_result"
    }
   ],
   "source": [
    "test_df=pd.concat([test2,test5,test15],axis=1)\n",
    "test_df.shape"
   ]
  },
  {
   "cell_type": "code",
   "execution_count": 16,
   "metadata": {
    "collapsed": true
   },
   "outputs": [],
   "source": [
    "var_df=pd.concat([aggd,test_df],axis=1)"
   ]
  },
  {
   "cell_type": "code",
   "execution_count": 17,
   "metadata": {
    "collapsed": true
   },
   "outputs": [],
   "source": [
    "lista=[x for x in var_df.columns]\n",
    "lista[-3:]=['prop2','prop5','prop15']\n",
    "var_df.columns=lista\n",
    "var_df['mid_ln']=np.log(var_df['mid'])"
   ]
  },
  {
   "cell_type": "code",
   "execution_count": 18,
   "metadata": {
    "collapsed": true
   },
   "outputs": [],
   "source": [
    "#remove any rows with null values or impute zero values\n",
    "var_df[['mid','vol_3day','vol_15day','prop2','prop5','prop15']]\n",
    "var_df1=var_df.dropna(how='any')[['mid','vol_3day','vol_15day','prop2','prop5','prop15']]"
   ]
  },
  {
   "cell_type": "code",
   "execution_count": 24,
   "metadata": {},
   "outputs": [
    {
     "name": "stdout",
     "output_type": "stream",
     "text": [
      "(237, 5)\n",
      "(237, 6)\n"
     ]
    }
   ],
   "source": [
    "#the more shifts/lags I apply, the more observations removed from the top (earliest) of the dataset\n",
    "#will rename each column per the convention provided in the LTSM article... \n",
    "#will also need to shift each independent variable\n",
    "#a function to iteratively append higher rows to later observations\n",
    "lags=1 #applying three lags\n",
    "temp_df=var_df1.iloc[:,1:]\n",
    "print(temp_df.shape)\n",
    "lista=[]\n",
    "for i in np.arange(1,lags+1,1):\n",
    "    temp_df=temp_df.shift(+1,axis=0)\n",
    "    temp_df.columns=['var'+str(counter+1)+'(t-{})'.format(i) for counter, h in enumerate(temp_df.columns)]\n",
    "    lista.append(temp_df)\n",
    "agg_df=pd.concat(lista,axis=1)\n",
    "agg_df['var(t)']=var_df1['mid']\n",
    "print(agg_df.shape)"
   ]
  },
  {
   "cell_type": "code",
   "execution_count": 23,
   "metadata": {},
   "outputs": [
    {
     "data": {
      "text/html": [
       "<div>\n",
       "<style>\n",
       "    .dataframe thead tr:only-child th {\n",
       "        text-align: right;\n",
       "    }\n",
       "\n",
       "    .dataframe thead th {\n",
       "        text-align: left;\n",
       "    }\n",
       "\n",
       "    .dataframe tbody tr th {\n",
       "        vertical-align: top;\n",
       "    }\n",
       "</style>\n",
       "<table border=\"1\" class=\"dataframe\">\n",
       "  <thead>\n",
       "    <tr style=\"text-align: right;\">\n",
       "      <th></th>\n",
       "      <th>mid</th>\n",
       "      <th>vol_3day</th>\n",
       "      <th>vol_15day</th>\n",
       "      <th>prop2</th>\n",
       "      <th>prop5</th>\n",
       "      <th>prop15</th>\n",
       "    </tr>\n",
       "    <tr>\n",
       "      <th>time</th>\n",
       "      <th></th>\n",
       "      <th></th>\n",
       "      <th></th>\n",
       "      <th></th>\n",
       "      <th></th>\n",
       "      <th></th>\n",
       "    </tr>\n",
       "  </thead>\n",
       "  <tbody>\n",
       "    <tr>\n",
       "      <th>2018-05-02 20:00:00</th>\n",
       "      <td>0.026030</td>\n",
       "      <td>0.036095</td>\n",
       "      <td>0.047595</td>\n",
       "      <td>0.983192</td>\n",
       "      <td>0.979971</td>\n",
       "      <td>0.914456</td>\n",
       "    </tr>\n",
       "    <tr>\n",
       "      <th>2018-05-03 20:00:00</th>\n",
       "      <td>0.025165</td>\n",
       "      <td>0.036482</td>\n",
       "      <td>0.047282</td>\n",
       "      <td>0.983104</td>\n",
       "      <td>0.961671</td>\n",
       "      <td>0.890513</td>\n",
       "    </tr>\n",
       "    <tr>\n",
       "      <th>2018-05-04 20:00:00</th>\n",
       "      <td>0.024820</td>\n",
       "      <td>0.033302</td>\n",
       "      <td>0.045920</td>\n",
       "      <td>0.993098</td>\n",
       "      <td>0.962127</td>\n",
       "      <td>0.888247</td>\n",
       "    </tr>\n",
       "    <tr>\n",
       "      <th>2018-05-05 20:00:00</th>\n",
       "      <td>0.024560</td>\n",
       "      <td>0.021414</td>\n",
       "      <td>0.043141</td>\n",
       "      <td>0.994735</td>\n",
       "      <td>0.963175</td>\n",
       "      <td>0.888760</td>\n",
       "    </tr>\n",
       "    <tr>\n",
       "      <th>2018-05-06 20:00:00</th>\n",
       "      <td>0.024265</td>\n",
       "      <td>0.016536</td>\n",
       "      <td>0.038247</td>\n",
       "      <td>0.993958</td>\n",
       "      <td>0.971844</td>\n",
       "      <td>0.890557</td>\n",
       "    </tr>\n",
       "  </tbody>\n",
       "</table>\n",
       "</div>"
      ],
      "text/plain": [
       "                          mid  vol_3day  vol_15day     prop2     prop5  \\\n",
       "time                                                                     \n",
       "2018-05-02 20:00:00  0.026030  0.036095   0.047595  0.983192  0.979971   \n",
       "2018-05-03 20:00:00  0.025165  0.036482   0.047282  0.983104  0.961671   \n",
       "2018-05-04 20:00:00  0.024820  0.033302   0.045920  0.993098  0.962127   \n",
       "2018-05-05 20:00:00  0.024560  0.021414   0.043141  0.994735  0.963175   \n",
       "2018-05-06 20:00:00  0.024265  0.016536   0.038247  0.993958  0.971844   \n",
       "\n",
       "                       prop15  \n",
       "time                           \n",
       "2018-05-02 20:00:00  0.914456  \n",
       "2018-05-03 20:00:00  0.890513  \n",
       "2018-05-04 20:00:00  0.888247  \n",
       "2018-05-05 20:00:00  0.888760  \n",
       "2018-05-06 20:00:00  0.890557  "
      ]
     },
     "execution_count": 23,
     "metadata": {},
     "output_type": "execute_result"
    }
   ],
   "source": [
    "var_df1.tail()"
   ]
  },
  {
   "cell_type": "code",
   "execution_count": 25,
   "metadata": {},
   "outputs": [
    {
     "data": {
      "text/html": [
       "<div>\n",
       "<style>\n",
       "    .dataframe thead tr:only-child th {\n",
       "        text-align: right;\n",
       "    }\n",
       "\n",
       "    .dataframe thead th {\n",
       "        text-align: left;\n",
       "    }\n",
       "\n",
       "    .dataframe tbody tr th {\n",
       "        vertical-align: top;\n",
       "    }\n",
       "</style>\n",
       "<table border=\"1\" class=\"dataframe\">\n",
       "  <thead>\n",
       "    <tr style=\"text-align: right;\">\n",
       "      <th></th>\n",
       "      <th>var1(t-1)</th>\n",
       "      <th>var2(t-1)</th>\n",
       "      <th>var3(t-1)</th>\n",
       "      <th>var4(t-1)</th>\n",
       "      <th>var5(t-1)</th>\n",
       "      <th>var(t)</th>\n",
       "    </tr>\n",
       "    <tr>\n",
       "      <th>time</th>\n",
       "      <th></th>\n",
       "      <th></th>\n",
       "      <th></th>\n",
       "      <th></th>\n",
       "      <th></th>\n",
       "      <th></th>\n",
       "    </tr>\n",
       "  </thead>\n",
       "  <tbody>\n",
       "    <tr>\n",
       "      <th>2018-05-02 20:00:00</th>\n",
       "      <td>0.033583</td>\n",
       "      <td>0.055129</td>\n",
       "      <td>1.016424</td>\n",
       "      <td>0.999889</td>\n",
       "      <td>0.942654</td>\n",
       "      <td>0.026030</td>\n",
       "    </tr>\n",
       "    <tr>\n",
       "      <th>2018-05-03 20:00:00</th>\n",
       "      <td>0.036095</td>\n",
       "      <td>0.047595</td>\n",
       "      <td>0.983192</td>\n",
       "      <td>0.979971</td>\n",
       "      <td>0.914456</td>\n",
       "      <td>0.025165</td>\n",
       "    </tr>\n",
       "    <tr>\n",
       "      <th>2018-05-04 20:00:00</th>\n",
       "      <td>0.036482</td>\n",
       "      <td>0.047282</td>\n",
       "      <td>0.983104</td>\n",
       "      <td>0.961671</td>\n",
       "      <td>0.890513</td>\n",
       "      <td>0.024820</td>\n",
       "    </tr>\n",
       "    <tr>\n",
       "      <th>2018-05-05 20:00:00</th>\n",
       "      <td>0.033302</td>\n",
       "      <td>0.045920</td>\n",
       "      <td>0.993098</td>\n",
       "      <td>0.962127</td>\n",
       "      <td>0.888247</td>\n",
       "      <td>0.024560</td>\n",
       "    </tr>\n",
       "    <tr>\n",
       "      <th>2018-05-06 20:00:00</th>\n",
       "      <td>0.021414</td>\n",
       "      <td>0.043141</td>\n",
       "      <td>0.994735</td>\n",
       "      <td>0.963175</td>\n",
       "      <td>0.888760</td>\n",
       "      <td>0.024265</td>\n",
       "    </tr>\n",
       "  </tbody>\n",
       "</table>\n",
       "</div>"
      ],
      "text/plain": [
       "                     var1(t-1)  var2(t-1)  var3(t-1)  var4(t-1)  var5(t-1)  \\\n",
       "time                                                                         \n",
       "2018-05-02 20:00:00   0.033583   0.055129   1.016424   0.999889   0.942654   \n",
       "2018-05-03 20:00:00   0.036095   0.047595   0.983192   0.979971   0.914456   \n",
       "2018-05-04 20:00:00   0.036482   0.047282   0.983104   0.961671   0.890513   \n",
       "2018-05-05 20:00:00   0.033302   0.045920   0.993098   0.962127   0.888247   \n",
       "2018-05-06 20:00:00   0.021414   0.043141   0.994735   0.963175   0.888760   \n",
       "\n",
       "                       var(t)  \n",
       "time                           \n",
       "2018-05-02 20:00:00  0.026030  \n",
       "2018-05-03 20:00:00  0.025165  \n",
       "2018-05-04 20:00:00  0.024820  \n",
       "2018-05-05 20:00:00  0.024560  \n",
       "2018-05-06 20:00:00  0.024265  "
      ]
     },
     "execution_count": 25,
     "metadata": {},
     "output_type": "execute_result"
    }
   ],
   "source": [
    "agg_df.tail()"
   ]
  },
  {
   "cell_type": "code",
   "execution_count": 19,
   "metadata": {},
   "outputs": [
    {
     "data": {
      "text/html": [
       "<div>\n",
       "<style>\n",
       "    .dataframe thead tr:only-child th {\n",
       "        text-align: right;\n",
       "    }\n",
       "\n",
       "    .dataframe thead th {\n",
       "        text-align: left;\n",
       "    }\n",
       "\n",
       "    .dataframe tbody tr th {\n",
       "        vertical-align: top;\n",
       "    }\n",
       "</style>\n",
       "<table border=\"1\" class=\"dataframe\">\n",
       "  <thead>\n",
       "    <tr style=\"text-align: right;\">\n",
       "      <th></th>\n",
       "      <th>var1(t-1)</th>\n",
       "      <th>var2(t-1)</th>\n",
       "      <th>var3(t-1)</th>\n",
       "      <th>var4(t-1)</th>\n",
       "      <th>var5(t-1)</th>\n",
       "      <th>var(t)</th>\n",
       "    </tr>\n",
       "    <tr>\n",
       "      <th>time</th>\n",
       "      <th></th>\n",
       "      <th></th>\n",
       "      <th></th>\n",
       "      <th></th>\n",
       "      <th></th>\n",
       "      <th></th>\n",
       "    </tr>\n",
       "  </thead>\n",
       "  <tbody>\n",
       "    <tr>\n",
       "      <th>2017-09-11 20:00:00</th>\n",
       "      <td>0.045408</td>\n",
       "      <td>0.054861</td>\n",
       "      <td>1.012066</td>\n",
       "      <td>1.017468</td>\n",
       "      <td>1.000122</td>\n",
       "      <td>0.026610</td>\n",
       "    </tr>\n",
       "    <tr>\n",
       "      <th>2017-09-12 20:00:00</th>\n",
       "      <td>0.068757</td>\n",
       "      <td>0.056201</td>\n",
       "      <td>1.026950</td>\n",
       "      <td>1.059903</td>\n",
       "      <td>1.054374</td>\n",
       "      <td>0.027260</td>\n",
       "    </tr>\n",
       "    <tr>\n",
       "      <th>2017-09-13 20:00:00</th>\n",
       "      <td>0.080852</td>\n",
       "      <td>0.058457</td>\n",
       "      <td>0.951340</td>\n",
       "      <td>0.963918</td>\n",
       "      <td>0.965344</td>\n",
       "      <td>0.028770</td>\n",
       "    </tr>\n",
       "    <tr>\n",
       "      <th>2017-09-14 20:00:00</th>\n",
       "      <td>0.072930</td>\n",
       "      <td>0.057405</td>\n",
       "      <td>1.012392</td>\n",
       "      <td>0.987306</td>\n",
       "      <td>0.997961</td>\n",
       "      <td>0.026100</td>\n",
       "    </tr>\n",
       "    <tr>\n",
       "      <th>2017-09-15 20:00:00</th>\n",
       "      <td>0.052337</td>\n",
       "      <td>0.056462</td>\n",
       "      <td>0.981635</td>\n",
       "      <td>0.957490</td>\n",
       "      <td>0.967585</td>\n",
       "      <td>0.026755</td>\n",
       "    </tr>\n",
       "  </tbody>\n",
       "</table>\n",
       "</div>"
      ],
      "text/plain": [
       "                     var1(t-1)  var2(t-1)  var3(t-1)  var4(t-1)  var5(t-1)  \\\n",
       "time                                                                         \n",
       "2017-09-11 20:00:00   0.045408   0.054861   1.012066   1.017468   1.000122   \n",
       "2017-09-12 20:00:00   0.068757   0.056201   1.026950   1.059903   1.054374   \n",
       "2017-09-13 20:00:00   0.080852   0.058457   0.951340   0.963918   0.965344   \n",
       "2017-09-14 20:00:00   0.072930   0.057405   1.012392   0.987306   0.997961   \n",
       "2017-09-15 20:00:00   0.052337   0.056462   0.981635   0.957490   0.967585   \n",
       "\n",
       "                       var(t)  \n",
       "time                           \n",
       "2017-09-11 20:00:00  0.026610  \n",
       "2017-09-12 20:00:00  0.027260  \n",
       "2017-09-13 20:00:00  0.028770  \n",
       "2017-09-14 20:00:00  0.026100  \n",
       "2017-09-15 20:00:00  0.026755  "
      ]
     },
     "execution_count": 19,
     "metadata": {},
     "output_type": "execute_result"
    }
   ],
   "source": [
    "agg_df.head()"
   ]
  },
  {
   "cell_type": "code",
   "execution_count": 20,
   "metadata": {
    "collapsed": true
   },
   "outputs": [],
   "source": [
    "agg_df.dropna(how='any',inplace=True)\n",
    "agg_arr=agg_df.values.astype('float32')"
   ]
  },
  {
   "cell_type": "code",
   "execution_count": 21,
   "metadata": {
    "collapsed": true
   },
   "outputs": [],
   "source": [
    "scaler = preprocessing.MinMaxScaler(feature_range=(0, 1))\n",
    "scaled = scaler.fit_transform(agg_arr)"
   ]
  },
  {
   "cell_type": "code",
   "execution_count": 22,
   "metadata": {
    "collapsed": true
   },
   "outputs": [],
   "source": [
    "df=pd.DataFrame(scaled,columns=agg_df.columns)"
   ]
  },
  {
   "cell_type": "code",
   "execution_count": 2,
   "metadata": {},
   "outputs": [
    {
     "ename": "NameError",
     "evalue": "name 'df' is not defined",
     "output_type": "error",
     "traceback": [
      "\u001b[0;31m--------------------------------------\u001b[0m",
      "\u001b[0;31mNameError\u001b[0mTraceback (most recent call last)",
      "\u001b[0;32m<ipython-input-2-26487c57d6a2>\u001b[0m in \u001b[0;36m<module>\u001b[0;34m()\u001b[0m\n\u001b[0;32m----> 1\u001b[0;31m \u001b[0mdf\u001b[0m\u001b[0;34m.\u001b[0m\u001b[0mtail\u001b[0m\u001b[0;34m(\u001b[0m\u001b[0;34m)\u001b[0m\u001b[0;34m\u001b[0m\u001b[0m\n\u001b[0m",
      "\u001b[0;31mNameError\u001b[0m: name 'df' is not defined"
     ]
    }
   ],
   "source": [
    "df.tail()"
   ]
  },
  {
   "cell_type": "code",
   "execution_count": 23,
   "metadata": {},
   "outputs": [
    {
     "name": "stdout",
     "output_type": "stream",
     "text": [
      "(200, 1, 5) (200,) (36, 1, 5) (36,)\n"
     ]
    }
   ],
   "source": [
    "values = df.values\n",
    "n_train_days = 200\n",
    "train = values[:n_train_days, :]\n",
    "test = values[n_train_days:, :]\n",
    "# split into input and outputs\n",
    "train_X, train_y = train[:, :-1], train[:, -1]\n",
    "test_X, test_y = test[:, :-1], test[:, -1]\n",
    "# reshape input to be 3D [samples, timesteps, features]\n",
    "train_X = train_X.reshape((train_X.shape[0], 1, train_X.shape[1]))\n",
    "test_X = test_X.reshape((test_X.shape[0], 1, test_X.shape[1]))\n",
    "print(train_X.shape, train_y.shape, test_X.shape, test_y.shape)"
   ]
  },
  {
   "cell_type": "code",
   "execution_count": 24,
   "metadata": {},
   "outputs": [
    {
     "data": {
      "text/plain": [
       "196    0.567422\n",
       "197    0.603412\n",
       "198    0.616499\n",
       "199    0.607619\n",
       "200    0.641505\n",
       "201    0.651788\n",
       "202    0.642206\n",
       "Name: var(t), dtype: float32"
      ]
     },
     "execution_count": 24,
     "metadata": {},
     "output_type": "execute_result"
    }
   ],
   "source": [
    "train_y[-5:] #this agrees with the below\n",
    "df['var(t)'][196:203]#this agrees with the above"
   ]
  },
  {
   "cell_type": "code",
   "execution_count": 25,
   "metadata": {},
   "outputs": [
    {
     "name": "stdout",
     "output_type": "stream",
     "text": [
      "[[[ 0.11717907  0.22628529  0.48373032  0.28484154  0.24923408]]\n",
      "\n",
      " [[ 0.12555352  0.22609432  0.60773277  0.36479807  0.31060219]]\n",
      "\n",
      " [[ 0.11281879  0.20475127  0.56191826  0.37844348  0.33458376]]\n",
      "\n",
      " [[ 0.08266919  0.18598877  0.51945639  0.35258698  0.32912719]]\n",
      "\n",
      " [[ 0.06284412  0.18408529  0.60133123  0.40703893  0.37642336]]]\n",
      "     var1(t-1)  var2(t-1)  var3(t-1)  var4(t-1)  var5(t-1)\n",
      "196   0.125554   0.226094   0.607733   0.364798   0.310602\n",
      "197   0.112819   0.204751   0.561918   0.378443   0.334584\n",
      "198   0.082669   0.185989   0.519456   0.352587   0.329127\n",
      "199   0.062844   0.184085   0.601331   0.407039   0.376423\n",
      "200   0.060581   0.148909   0.555881   0.391388   0.387047\n",
      "201   0.040700   0.126691   0.518646   0.352968   0.369645\n",
      "202   0.042891   0.087058   0.509171   0.316311   0.348128\n"
     ]
    }
   ],
   "source": [
    "print(train_X[-5:])\n",
    "print(df.iloc[:,:-1][196:203]) #these also appear to agree"
   ]
  },
  {
   "cell_type": "code",
   "execution_count": 26,
   "metadata": {},
   "outputs": [
    {
     "name": "stdout",
     "output_type": "stream",
     "text": [
      "[[[ 0.11404162  0.33274651  0.6099      0.33013773  0.23509908]]\n",
      "\n",
      " [[ 0.12963623  0.2581172   0.46159363  0.27880812  0.19047868]]\n",
      "\n",
      " [[ 0.13203654  0.25502551  0.46120119  0.23164463  0.15259004]]\n",
      "\n",
      " [[ 0.11229286  0.24153374  0.50580168  0.23282146  0.14900529]]\n",
      "\n",
      " [[ 0.03604933  0.21361877  0.51583004  0.23796892  0.15143275]]]\n",
      "     var1(t-1)  var2(t-1)  var3(t-1)  var4(t-1)  var5(t-1)\n",
      "231   0.114042   0.332747   0.609900   0.330138   0.235099\n",
      "232   0.129636   0.258117   0.461594   0.278808   0.190479\n",
      "233   0.132037   0.255026   0.461201   0.231645   0.152590\n",
      "234   0.112293   0.241534   0.505802   0.232821   0.149005\n",
      "235   0.036049   0.213619   0.515830   0.237969   0.151433\n"
     ]
    }
   ],
   "source": [
    "print(test_X[-5:])\n",
    "print(df.iloc[:,:-1].tail()) #these also appear to agree"
   ]
  },
  {
   "cell_type": "code",
   "execution_count": 27,
   "metadata": {},
   "outputs": [
    {
     "name": "stdout",
     "output_type": "stream",
     "text": [
      "[ 0.67398912  0.71465284  0.6730544   0.63262445  0.61649913]\n",
      "231    0.673989\n",
      "232    0.714653\n",
      "233    0.673054\n",
      "234    0.632624\n",
      "235    0.616499\n",
      "Name: var(t), dtype: float32\n"
     ]
    }
   ],
   "source": [
    "print(test_y[-5:]) #this agrees with the below\n",
    "print(df['var(t)'].tail())#this agrees with the above"
   ]
  },
  {
   "cell_type": "code",
   "execution_count": 56,
   "metadata": {},
   "outputs": [
    {
     "data": {
      "text/plain": [
       "<keras.callbacks.History at 0x7f6bfc3567b8>"
      ]
     },
     "execution_count": 56,
     "metadata": {},
     "output_type": "execute_result"
    }
   ],
   "source": [
    "mdl = Sequential()\n",
    "mdl.add(Dense(3, input_shape=(train_X.shape[1], train_X.shape[2]), activation='relu'))\n",
    "mdl.add(LSTM(6, activation='relu'))\n",
    "mdl.add(Dense(1, activation='relu'))\n",
    "mdl.compile(loss='mean_squared_error', optimizer='adam')\n",
    "mdl.fit(train_X, train_y, epochs=50, batch_size=1, verbose=0)"
   ]
  },
  {
   "cell_type": "code",
   "execution_count": 29,
   "metadata": {
    "collapsed": true
   },
   "outputs": [],
   "source": [
    "train_predict = mdl.predict(train_X)\n",
    "test_predict = mdl.predict(test_X)"
   ]
  },
  {
   "cell_type": "code",
   "execution_count": 30,
   "metadata": {},
   "outputs": [
    {
     "data": {
      "text/plain": [
       "array([[ 0.49125102],\n",
       "       [ 0.54586542],\n",
       "       [ 0.51002502],\n",
       "       [ 0.4997218 ],\n",
       "       [ 0.53256649]], dtype=float32)"
      ]
     },
     "execution_count": 30,
     "metadata": {},
     "output_type": "execute_result"
    }
   ],
   "source": [
    "test_predict[-5:]"
   ]
  },
  {
   "cell_type": "markdown",
   "metadata": {},
   "source": [
    "Concatenate the **test/predictive** dataset"
   ]
  },
  {
   "cell_type": "code",
   "execution_count": 45,
   "metadata": {},
   "outputs": [
    {
     "data": {
      "text/plain": [
       "(36, 5)"
      ]
     },
     "execution_count": 45,
     "metadata": {},
     "output_type": "execute_result"
    }
   ],
   "source": [
    "test_X1.shape"
   ]
  },
  {
   "cell_type": "code",
   "execution_count": 40,
   "metadata": {
    "collapsed": true
   },
   "outputs": [],
   "source": [
    "test_X1 = test_X.reshape((test_X.shape[0], test_X.shape[2]))\n",
    "#inv_yhat1 = np.concatenate((test_predict, test_X1), axis=1)\n",
    "# invert scaling for forecast\n",
    "#inv_yhat = np.concatenate((yhat, test_X[:, 1:]), axis=1)\n",
    "test_data = np.concatenate((test_X1,test_predict), axis=1)"
   ]
  },
  {
   "cell_type": "markdown",
   "metadata": {},
   "source": [
    "Concatenate all the **training** data. This is a preliminary step to concatenating all the datasets:\n",
    "- train_X.shape\n",
    "- train_y.shape\n",
    "- test_X.shape\n",
    "- test_y.shape)"
   ]
  },
  {
   "cell_type": "code",
   "execution_count": 38,
   "metadata": {
    "collapsed": true
   },
   "outputs": [],
   "source": [
    "y_train=np.reshape(train_y,(train_y.shape[0],1))"
   ]
  },
  {
   "cell_type": "code",
   "execution_count": 41,
   "metadata": {
    "collapsed": true
   },
   "outputs": [],
   "source": [
    "train_data = np.concatenate((train_X1,y_train), axis=1)"
   ]
  },
  {
   "cell_type": "markdown",
   "metadata": {},
   "source": [
    "Concatenate all the **test** data."
   ]
  },
  {
   "cell_type": "code",
   "execution_count": 47,
   "metadata": {
    "collapsed": true
   },
   "outputs": [],
   "source": [
    "agg_data = np.concatenate((train_data,test_data), axis=0)"
   ]
  },
  {
   "cell_type": "code",
   "execution_count": 43,
   "metadata": {},
   "outputs": [
    {
     "data": {
      "text/plain": [
       "(236, 6)"
      ]
     },
     "execution_count": 43,
     "metadata": {},
     "output_type": "execute_result"
    }
   ],
   "source": [
    "agg_data.shape"
   ]
  },
  {
   "cell_type": "code",
   "execution_count": 53,
   "metadata": {},
   "outputs": [
    {
     "data": {
      "text/plain": [
       "(236, 6)"
      ]
     },
     "execution_count": 53,
     "metadata": {},
     "output_type": "execute_result"
    }
   ],
   "source": [
    "inv_agg_data=scaler.inverse_transform(agg_data)\n",
    "inv_agg_data.shape"
   ]
  },
  {
   "cell_type": "code",
   "execution_count": 54,
   "metadata": {},
   "outputs": [
    {
     "data": {
      "text/plain": [
       "array([ 0.02880836,  0.02945114,  0.02987518,  0.02821835,  0.02623106,\n",
       "        0.0259125 ,  0.02478649,  0.02434412,  0.02324585,  0.02250305,\n",
       "        0.02214032,  0.02330879,  0.02254198,  0.02232155,  0.02302426], dtype=float32)"
      ]
     },
     "execution_count": 54,
     "metadata": {},
     "output_type": "execute_result"
    }
   ],
   "source": [
    "#predictions are stored in column 6\n",
    "inv_agg_data[-15:,-1]"
   ]
  },
  {
   "cell_type": "markdown",
   "metadata": {},
   "source": [
    "Compare the predicted to the actual data."
   ]
  },
  {
   "cell_type": "code",
   "execution_count": 58,
   "metadata": {},
   "outputs": [
    {
     "name": "stdout",
     "output_type": "stream",
     "text": [
      "[ 0.02214032  0.02330879  0.02254198  0.02232155  0.02302426]\n",
      "time\n",
      "2018-05-01 20:00:00    0.026920\n",
      "2018-05-02 20:00:00    0.026030\n",
      "2018-05-03 20:00:00    0.025165\n",
      "2018-05-04 20:00:00    0.024820\n",
      "2018-05-05 20:00:00    0.024590\n",
      "Name: mid, dtype: float64\n"
     ]
    }
   ],
   "source": [
    "print(inv_agg_data[-5:,-1])\n",
    "print(var_df1['mid'][-5:])"
   ]
  },
  {
   "cell_type": "code",
   "execution_count": null,
   "metadata": {
    "collapsed": true
   },
   "outputs": [],
   "source": [
    "inv_yhat = scaler.inverse_transform(inv_yhat)\n",
    "inv_yhat = inv_yhat[:,0]\n",
    "# invert scaling for actual\n",
    "test_y = test_y.reshape((len(test_y), 1))\n",
    "#inv_y = np.concatenate((test_y, test_X[:, 1:]), axis=1)\n",
    "inv_y = np.concatenate((test_y, test_X1), axis=1)\n",
    "inv_y = scaler.inverse_transform(inv_y)\n",
    "inv_y = inv_y[:,0]\n",
    "# calculate RMSE\n",
    "rmse = np.sqrt(mean_squared_error(inv_y, inv_yhat))\n",
    "print('Test RMSE: %.3f' % rmse)"
   ]
  },
  {
   "cell_type": "code",
   "execution_count": null,
   "metadata": {
    "collapsed": true
   },
   "outputs": [],
   "source": [
    "inv_y[-5:]"
   ]
  },
  {
   "cell_type": "code",
   "execution_count": 50,
   "metadata": {},
   "outputs": [
    {
     "data": {
      "text/plain": [
       "time\n",
       "2018-05-01 20:00:00    0.026920\n",
       "2018-05-02 20:00:00    0.026030\n",
       "2018-05-03 20:00:00    0.025165\n",
       "2018-05-04 20:00:00    0.024820\n",
       "2018-05-05 20:00:00    0.024590\n",
       "Name: mid, dtype: float64"
      ]
     },
     "execution_count": 50,
     "metadata": {},
     "output_type": "execute_result"
    }
   ],
   "source": [
    "var_df1['mid'].tail()"
   ]
  },
  {
   "cell_type": "markdown",
   "metadata": {},
   "source": [
    "**Plot** both the actual data and predicted on the same axes."
   ]
  },
  {
   "cell_type": "code",
   "execution_count": 65,
   "metadata": {},
   "outputs": [
    {
     "data": {
      "text/plain": [
       "DatetimeIndex(['2017-09-11 20:00:00', '2017-09-12 20:00:00',\n",
       "               '2017-09-13 20:00:00', '2017-09-14 20:00:00',\n",
       "               '2017-09-15 20:00:00'],\n",
       "              dtype='datetime64[ns]', name='time', freq=None)"
      ]
     },
     "execution_count": 65,
     "metadata": {},
     "output_type": "execute_result"
    }
   ],
   "source": [
    "agg_df.index[0:5]"
   ]
  },
  {
   "cell_type": "code",
   "execution_count": 68,
   "metadata": {},
   "outputs": [
    {
     "data": {
      "text/plain": [
       "(236, 6)"
      ]
     },
     "execution_count": 68,
     "metadata": {},
     "output_type": "execute_result"
    }
   ],
   "source": [
    "inv_agg_data.shape"
   ]
  },
  {
   "cell_type": "code",
   "execution_count": 72,
   "metadata": {},
   "outputs": [
    {
     "data": {
      "image/png": "[encoded data removed]",
      "text/plain": [
       "<matplotlib.figure.Figure at 0x7f6b3673edd8>"
      ]
     },
     "metadata": {},
     "output_type": "display_data"
    }
   ],
   "source": [
    "plt.plot(agg_df.index.values,agg_df['var(t)'])\n",
    "plt.show()"
   ]
  },
  {
   "cell_type": "code",
   "execution_count": 71,
   "metadata": {},
   "outputs": [
    {
     "data": {
      "image/png": "[encoded data removed]",
      "text/plain": [
       "<matplotlib.figure.Figure at 0x7f6b3677eba8>"
      ]
     },
     "metadata": {},
     "output_type": "display_data"
    }
   ],
   "source": [
    "plt.close()\n",
    "plt.plot(agg_df.index.values,agg_df['var(t)'],color='green')\n",
    "plt.plot(agg_df.index.values,inv_agg_data[:,-1],color='red')\n",
    "plt.show()"
   ]
  },
  {
   "cell_type": "markdown",
   "metadata": {},
   "source": [
    "Compile the final model and save it."
   ]
  },
  {
   "cell_type": "code",
   "execution_count": 75,
   "metadata": {},
   "outputs": [
    {
     "name": "stdout",
     "output_type": "stream",
     "text": [
      "(236, 1, 5) (236,)\n"
     ]
    }
   ],
   "source": [
    "values = df.values\n",
    "# split into input and outputs\n",
    "train_X, train_y = values[:, :-1], values[:, -1]\n",
    "# reshape input to be 3D [samples, timesteps, features]\n",
    "train_X = train_X.reshape((train_X.shape[0], 1, train_X.shape[1]))\n",
    "print(train_X.shape, train_y.shape)"
   ]
  },
  {
   "cell_type": "code",
   "execution_count": 76,
   "metadata": {},
   "outputs": [
    {
     "data": {
      "text/plain": [
       "<keras.callbacks.History at 0x7f6b367f0278>"
      ]
     },
     "execution_count": 76,
     "metadata": {},
     "output_type": "execute_result"
    }
   ],
   "source": [
    "mdl = Sequential()\n",
    "mdl.add(Dense(3, input_shape=(train_X.shape[1], train_X.shape[2]), activation='relu'))\n",
    "mdl.add(LSTM(6, activation='relu'))\n",
    "mdl.add(Dense(1, activation='relu'))\n",
    "mdl.compile(loss='mean_squared_error', optimizer='adam')\n",
    "mdl.fit(train_X, train_y, epochs=30, batch_size=1, verbose=0)"
   ]
  },
  {
   "cell_type": "code",
   "execution_count": 79,
   "metadata": {
    "collapsed": true
   },
   "outputs": [],
   "source": [
    "mdl.save('/home/lechuza/Documents/CUNY/data_607/timeSeriesWork/lstm_model.h5')"
   ]
  },
  {
   "cell_type": "markdown",
   "metadata": {},
   "source": [
    "Reload the model from disk."
   ]
  },
  {
   "cell_type": "code",
   "execution_count": null,
   "metadata": {
    "collapsed": true
   },
   "outputs": [],
   "source": [
    "# load model from single file\n",
    "model = load_model('lstm_model.h5')\n",
    "# make predictions\n",
    "yhat = model.predict(X, verbose=0)"
   ]
  }
 ],
 "metadata": {
  "kernelspec": {
   "display_name": "Python 3",
   "language": "python",
   "name": "python3"
  },
  "language_info": {
   "codemirror_mode": {
    "name": "ipython",
    "version": 3
   },
   "file_extension": ".py",
   "mimetype": "text/x-python",
   "name": "python",
   "nbconvert_exporter": "python",
   "pygments_lexer": "ipython3",
   "version": "3.6.3"
  }
 },
 "nbformat": 4,
 "nbformat_minor": 2
}
