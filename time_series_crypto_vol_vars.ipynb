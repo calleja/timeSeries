{
 "cells": [
  {
   "cell_type": "code",
   "execution_count": 1,
   "metadata": {},
   "outputs": [
    {
     "name": "stderr",
     "output_type": "stream",
     "text": [
      "C:\\Users\\callejal\\AppData\\Local\\Continuum\\Miniconda2\\envs\\py36\\lib\\site-packages\\statsmodels\\compat\\pandas.py:56: FutureWarning: The pandas.core.datetools module is deprecated and will be removed in a future version. Please use the pandas.tseries module instead.\n",
      "  from pandas.core import datetools\n"
     ]
    }
   ],
   "source": [
    "import pandas as pd\n",
    "import requests\n",
    "import matplotlib.pyplot as plt\n",
    "import statsmodels.api as sm\n",
    "import datetime\n",
    "from statsmodels.graphics.tsaplots import plot_acf\n",
    "import math\n",
    "import numpy as np"
   ]
  },
  {
   "cell_type": "code",
   "execution_count": 2,
   "metadata": {
    "collapsed": true
   },
   "outputs": [],
   "source": [
    "base_currency = 'BTC'\n",
    "#argument needs to be in the form of a string\n",
    "def get250Day(ticker):\n",
    "        ''' Acquire historical prices from CRYPTOCOMPARE '''\n",
    "        url='https://min-api.cryptocompare.com/data/histoday'\n",
    "        #will return a str\n",
    "#prices from last 200 days\n",
    "        parameters= {'fsym':ticker, 'tsym': base_currency, 'e': 'Bittrex', 'aggregate':1,'limit':250}\n",
    "        \n",
    "        r=requests.get(url,parameters)\n",
    "        #handle this error in the calling class\n",
    "        j_obj=r.json()\n",
    "        if j_obj['Response']=='Error':\n",
    "            print(j_obj)\n",
    "            #print(\"fetch didn't work\")\n",
    "            raise RuntimeError\n",
    "        raw_time=j_obj['Data']\n",
    "        df=pd.DataFrame.from_dict(raw_time)\n",
    "        df['time']=df['time'].apply(lambda x: datetime.datetime.fromtimestamp(x))\n",
    "        df.index=pd.to_datetime(df.time)\n",
    "        return(df)"
   ]
  },
  {
   "cell_type": "code",
   "execution_count": 27,
   "metadata": {},
   "outputs": [
    {
     "data": {
      "text/plain": [
       "close                float64\n",
       "high                 float64\n",
       "low                  float64\n",
       "open                 float64\n",
       "time          datetime64[ns]\n",
       "volumefrom           float64\n",
       "volumeto             float64\n",
       "dtype: object"
      ]
     },
     "execution_count": 27,
     "metadata": {},
     "output_type": "execute_result"
    }
   ],
   "source": [
    "mro_df=get250Day('XMR')\n",
    "mro_df.dtypes"
   ]
  },
  {
   "cell_type": "code",
   "execution_count": 99,
   "metadata": {
    "collapsed": true
   },
   "outputs": [],
   "source": [
    "#prepare the dataframe for volatility calc\n",
    "mro_df['hi_low_log']=mro_df.apply(lambda x: np.log(x['high']/x['low'])**2,axis=1)"
   ]
  },
  {
   "cell_type": "code",
   "execution_count": 120,
   "metadata": {
    "collapsed": true
   },
   "outputs": [],
   "source": [
    "mro_df['mid']=mro_df.apply(lambda x: np.mean([x['high'],x['low']]),axis=1)"
   ]
  },
  {
   "cell_type": "markdown",
   "metadata": {},
   "source": [
    "#### Variable calculation: Rolling mean of length 2, 5, 15 and volatility calculation over past 3 and 15 days\n",
    "The API pulls daily data"
   ]
  },
  {
   "cell_type": "code",
   "execution_count": 101,
   "metadata": {
    "collapsed": true
   },
   "outputs": [],
   "source": [
    "def parkinson(df,window):\n",
    "    #return(np.log(max(df['high'])/min(df['low']))**2\n",
    "    return(np.sqrt((1/(4*np.log(2))*sum(df['hi_low_log']))/window))"
   ]
  },
  {
   "cell_type": "code",
   "execution_count": 108,
   "metadata": {
    "collapsed": true
   },
   "outputs": [],
   "source": [
    "def rolling_apply(df,window):\n",
    "    i=np.arange(df.shape[0]+1-window)\n",
    "    results=np.zeros(df.shape[0])\n",
    "    for g in i:\n",
    "        results[g+window-1]=parkinson(df.iloc[g:window+g,],window)\n",
    "    return(results)"
   ]
  },
  {
   "cell_type": "code",
   "execution_count": 109,
   "metadata": {
    "collapsed": true
   },
   "outputs": [],
   "source": [
    "test=rolling_apply(mro_df.iloc[0:5,],3)"
   ]
  },
  {
   "cell_type": "code",
   "execution_count": 112,
   "metadata": {
    "collapsed": true
   },
   "outputs": [],
   "source": [
    "mro_df['vol_3day']=rolling_apply(mro_df,3)\n",
    "mro_df['vol_15day']=rolling_apply(mro_df,15)"
   ]
  },
  {
   "cell_type": "code",
   "execution_count": 126,
   "metadata": {
    "collapsed": true
   },
   "outputs": [],
   "source": [
    "#rolling mean\n",
    "roll_2=mro_df[['low','high','close']].rolling(2).mean()\n",
    "roll_5=mro_df[['low','high','close']].rolling(5).mean()\n",
    "roll_15=mro_df[['low','high','close']].rolling(15).mean()"
   ]
  },
  {
   "cell_type": "code",
   "execution_count": 127,
   "metadata": {
    "collapsed": true
   },
   "outputs": [],
   "source": [
    "roll_2.columns=[i+'_MA2' for i in roll_2.columns]\n",
    "roll_5.columns=[i+'_MA5' for i in roll_2.columns]\n",
    "roll_15.columns=[i+'_MA15' for i in roll_2.columns]"
   ]
  },
  {
   "cell_type": "code",
   "execution_count": 134,
   "metadata": {
    "collapsed": true
   },
   "outputs": [],
   "source": [
    "#concatenate the dataframes\n",
    "test=pd.concat([mro_df,roll_2,roll_5,roll_15],axis=1)"
   ]
  },
  {
   "cell_type": "code",
   "execution_count": 4,
   "metadata": {
    "collapsed": true
   },
   "outputs": [],
   "source": [
    "mro_df['returns']=mro_df['low'].pct_change()"
   ]
  },
  {
   "cell_type": "code",
   "execution_count": 5,
   "metadata": {
    "collapsed": true
   },
   "outputs": [],
   "source": [
    "autocorrelation=mro_df['returns'].autocorr()"
   ]
  },
  {
   "cell_type": "code",
   "execution_count": 6,
   "metadata": {},
   "outputs": [
    {
     "name": "stdout",
     "output_type": "stream",
     "text": [
      "0.103188474359\n"
     ]
    }
   ],
   "source": [
    "print(autocorrelation)"
   ]
  },
  {
   "cell_type": "markdown",
   "metadata": {},
   "source": [
    "The acf function is part of the statsmodels.graphics.tsaplots module"
   ]
  },
  {
   "cell_type": "code",
   "execution_count": 7,
   "metadata": {},
   "outputs": [
    {
     "data": {
      "text/html": [
       "<div>\n",
       "<style>\n",
       "    .dataframe thead tr:only-child th {\n",
       "        text-align: right;\n",
       "    }\n",
       "\n",
       "    .dataframe thead th {\n",
       "        text-align: left;\n",
       "    }\n",
       "\n",
       "    .dataframe tbody tr th {\n",
       "        vertical-align: top;\n",
       "    }\n",
       "</style>\n",
       "<table border=\"1\" class=\"dataframe\">\n",
       "  <thead>\n",
       "    <tr style=\"text-align: right;\">\n",
       "      <th></th>\n",
       "      <th>close</th>\n",
       "      <th>high</th>\n",
       "      <th>low</th>\n",
       "      <th>open</th>\n",
       "      <th>time</th>\n",
       "      <th>volumefrom</th>\n",
       "      <th>volumeto</th>\n",
       "      <th>returns</th>\n",
       "    </tr>\n",
       "    <tr>\n",
       "      <th>time</th>\n",
       "      <th></th>\n",
       "      <th></th>\n",
       "      <th></th>\n",
       "      <th></th>\n",
       "      <th></th>\n",
       "      <th></th>\n",
       "      <th></th>\n",
       "      <th></th>\n",
       "    </tr>\n",
       "  </thead>\n",
       "  <tbody>\n",
       "    <tr>\n",
       "      <th>2017-08-15 20:00:00</th>\n",
       "      <td>0.01112</td>\n",
       "      <td>0.01207</td>\n",
       "      <td>0.01094</td>\n",
       "      <td>0.01178</td>\n",
       "      <td>2017-08-15 20:00:00</td>\n",
       "      <td>20797.92</td>\n",
       "      <td>238.92</td>\n",
       "      <td>NaN</td>\n",
       "    </tr>\n",
       "    <tr>\n",
       "      <th>2017-08-16 20:00:00</th>\n",
       "      <td>0.01113</td>\n",
       "      <td>0.01142</td>\n",
       "      <td>0.01090</td>\n",
       "      <td>0.01112</td>\n",
       "      <td>2017-08-16 20:00:00</td>\n",
       "      <td>22963.43</td>\n",
       "      <td>255.84</td>\n",
       "      <td>-0.003656</td>\n",
       "    </tr>\n",
       "    <tr>\n",
       "      <th>2017-08-17 20:00:00</th>\n",
       "      <td>0.01140</td>\n",
       "      <td>0.01200</td>\n",
       "      <td>0.01103</td>\n",
       "      <td>0.01109</td>\n",
       "      <td>2017-08-17 20:00:00</td>\n",
       "      <td>22082.14</td>\n",
       "      <td>252.50</td>\n",
       "      <td>0.011927</td>\n",
       "    </tr>\n",
       "    <tr>\n",
       "      <th>2017-08-18 20:00:00</th>\n",
       "      <td>0.01355</td>\n",
       "      <td>0.01411</td>\n",
       "      <td>0.01140</td>\n",
       "      <td>0.01140</td>\n",
       "      <td>2017-08-18 20:00:00</td>\n",
       "      <td>55518.28</td>\n",
       "      <td>731.48</td>\n",
       "      <td>0.033545</td>\n",
       "    </tr>\n",
       "    <tr>\n",
       "      <th>2017-08-19 20:00:00</th>\n",
       "      <td>0.01349</td>\n",
       "      <td>0.01378</td>\n",
       "      <td>0.01250</td>\n",
       "      <td>0.01355</td>\n",
       "      <td>2017-08-19 20:00:00</td>\n",
       "      <td>26588.46</td>\n",
       "      <td>349.46</td>\n",
       "      <td>0.096491</td>\n",
       "    </tr>\n",
       "  </tbody>\n",
       "</table>\n",
       "</div>"
      ],
      "text/plain": [
       "                       close     high      low     open                time  \\\n",
       "time                                                                          \n",
       "2017-08-15 20:00:00  0.01112  0.01207  0.01094  0.01178 2017-08-15 20:00:00   \n",
       "2017-08-16 20:00:00  0.01113  0.01142  0.01090  0.01112 2017-08-16 20:00:00   \n",
       "2017-08-17 20:00:00  0.01140  0.01200  0.01103  0.01109 2017-08-17 20:00:00   \n",
       "2017-08-18 20:00:00  0.01355  0.01411  0.01140  0.01140 2017-08-18 20:00:00   \n",
       "2017-08-19 20:00:00  0.01349  0.01378  0.01250  0.01355 2017-08-19 20:00:00   \n",
       "\n",
       "                     volumefrom  volumeto   returns  \n",
       "time                                                 \n",
       "2017-08-15 20:00:00    20797.92    238.92       NaN  \n",
       "2017-08-16 20:00:00    22963.43    255.84 -0.003656  \n",
       "2017-08-17 20:00:00    22082.14    252.50  0.011927  \n",
       "2017-08-18 20:00:00    55518.28    731.48  0.033545  \n",
       "2017-08-19 20:00:00    26588.46    349.46  0.096491  "
      ]
     },
     "execution_count": 7,
     "metadata": {},
     "output_type": "execute_result"
    }
   ],
   "source": [
    "mro_df.head()"
   ]
  },
  {
   "cell_type": "code",
   "execution_count": 8,
   "metadata": {},
   "outputs": [
    {
     "data": {
      "image/png": "[encoded data removed]",
      "text/plain": [
       "<matplotlib.figure.Figure at 0xab347b8>"
      ]
     },
     "metadata": {},
     "output_type": "display_data"
    }
   ],
   "source": [
    "plt.close()\n",
    "plt.plot(mro_df['low'])\n",
    "#plt.xticks(mro_df['returns'].index.values)\n",
    "plt.xticks(rotation=45)\n",
    "plt.show()"
   ]
  },
  {
   "cell_type": "code",
   "execution_count": 9,
   "metadata": {},
   "outputs": [
    {
     "data": {
      "image/png": "[encoded data removed]",
      "text/plain": [
       "<matplotlib.figure.Figure at 0xac0c4e0>"
      ]
     },
     "metadata": {},
     "output_type": "display_data"
    }
   ],
   "source": [
    "plt.close()\n",
    "plt.plot(mro_df['returns'])\n",
    "#plt.xticks(mro_df['returns'].index.values)\n",
    "plt.xticks(rotation=45)\n",
    "plt.show()"
   ]
  },
  {
   "cell_type": "code",
   "execution_count": 10,
   "metadata": {},
   "outputs": [
    {
     "data": {
      "image/png": "[encoded data removed]",
      "text/plain": [
       "<matplotlib.figure.Figure at 0xacc1f98>"
      ]
     },
     "metadata": {},
     "output_type": "display_data"
    }
   ],
   "source": [
    "plot_acf(mro_df['returns'][1:],lags=20,alpha=.05)\n",
    "plt.title('Autocorrelation on daily returns - low of the day as unit')\n",
    "plt.show()"
   ]
  },
  {
   "cell_type": "markdown",
   "metadata": {},
   "source": [
    "On the above we see the inclusion of confidence intervals around the autocorrelation calculations. Confidence intervals are the bands above and below zero where a statistically significant divergence from 0 cannot be claimed at 95% confidence. This mechanism makes use of the standard normal distribution and calculates the variance with 0 at the mean - 95% of the spread of distribution is contained within 1.96 times the standard deviation. The standard deviation is calculated as 1/sqrt(N)... N = # of observations. What would be interesting is to extract the confidence bands from the plot_acf function to see if the standard deviation and subsequently the N changes with the differing number of observations."
   ]
  },
  {
   "cell_type": "code",
   "execution_count": 11,
   "metadata": {
    "collapsed": true
   },
   "outputs": [],
   "source": [
    "def calcSD(lag,totalObs):\n",
    "    instances=totalObs//lag\n",
    "    calc=1/math.sqrt(instances)\n",
    "    return((calc*-1.96,calc*1.96))"
   ]
  },
  {
   "cell_type": "code",
   "execution_count": 12,
   "metadata": {},
   "outputs": [
    {
     "ename": "NameError",
     "evalue": "name 'mro_weekly' is not defined",
     "output_type": "error",
     "traceback": [
      "\u001b[1;31m---------------------------------------------------------------------------\u001b[0m",
      "\u001b[1;31mNameError\u001b[0m                                 Traceback (most recent call last)",
      "\u001b[1;32m<ipython-input-12-e14c35f2979d>\u001b[0m in \u001b[0;36m<module>\u001b[1;34m()\u001b[0m\n\u001b[1;32m----> 1\u001b[1;33m \u001b[0mcalcSD\u001b[0m\u001b[1;33m(\u001b[0m\u001b[1;36m5\u001b[0m\u001b[1;33m,\u001b[0m\u001b[0mlen\u001b[0m\u001b[1;33m(\u001b[0m\u001b[0mmro_weekly\u001b[0m\u001b[1;33m)\u001b[0m\u001b[1;33m)\u001b[0m\u001b[1;33m\u001b[0m\u001b[0m\n\u001b[0m",
      "\u001b[1;31mNameError\u001b[0m: name 'mro_weekly' is not defined"
     ]
    }
   ],
   "source": [
    "calcSD(5,len(mro_weekly))"
   ]
  },
  {
   "cell_type": "code",
   "execution_count": null,
   "metadata": {
    "collapsed": true
   },
   "outputs": [],
   "source": [
    "1.96/math.sqrt(len(mro_weekly))"
   ]
  },
  {
   "cell_type": "code",
   "execution_count": null,
   "metadata": {
    "collapsed": true
   },
   "outputs": [],
   "source": [
    "mro_weekly=mro_df['returns'].resample(how='last',rule='W')"
   ]
  },
  {
   "cell_type": "code",
   "execution_count": null,
   "metadata": {
    "collapsed": true
   },
   "outputs": [],
   "source": [
    "plot_acf(mro_weekly,lags=20,alpha=.05)\n",
    "plt.show()"
   ]
  },
  {
   "cell_type": "markdown",
   "metadata": {},
   "source": [
    "The weekly price reduction shows one reliable autocorrelation at the four unit lag observation."
   ]
  },
  {
   "cell_type": "code",
   "execution_count": null,
   "metadata": {
    "collapsed": true
   },
   "outputs": [],
   "source": [
    "df=mro_df.resample(how='last',rule='W')"
   ]
  },
  {
   "cell_type": "code",
   "execution_count": null,
   "metadata": {
    "collapsed": true
   },
   "outputs": [],
   "source": [
    "df['returns'].autocorr()"
   ]
  },
  {
   "cell_type": "markdown",
   "metadata": {},
   "source": [
    "### When are logs appropriate?\n",
    "Small changes in the difference of natural logs can be interpreted as percentage changes with a very close approximation. "
   ]
  },
  {
   "cell_type": "code",
   "execution_count": null,
   "metadata": {
    "collapsed": true
   },
   "outputs": [],
   "source": [
    "math.log(1.05)"
   ]
  },
  {
   "cell_type": "markdown",
   "metadata": {},
   "source": [
    "Notice how the difference in the logs of the below are very close to the proportional/percentage difference. In this case we take the difference in logs of two numbers that are 5% apart. Recall that you cannot calculate the natural log of a negative number. One practical application is logging data before fitting a random walk. A logged data set yields a so-called geometric random walk--i.e., a random walk with geometric rather than linear growth. A geometric random walk is the default forecasting model that is commonly used for stock price data.\n",
    "\n",
    "Because changes in the natural logarithm are (almost) equal to percentage changes in the original series, it follows that the slope of a trend line fitted to logged data is equal to the average percentage growth in the original series. \n",
    "\n",
    "resource: https://people.duke.edu/~rnau/411log.htm"
   ]
  },
  {
   "cell_type": "code",
   "execution_count": null,
   "metadata": {
    "collapsed": true
   },
   "outputs": [],
   "source": [
    "price_chg=mro_df['low'][1:].as_matrix()/mro_df['low'][:-1].as_matrix()\n",
    "price_chg[0:4]"
   ]
  },
  {
   "cell_type": "code",
   "execution_count": null,
   "metadata": {
    "collapsed": true
   },
   "outputs": [],
   "source": [
    "price_log=np.log(price_chg)"
   ]
  },
  {
   "cell_type": "code",
   "execution_count": null,
   "metadata": {
    "collapsed": true
   },
   "outputs": [],
   "source": [
    "plt.close()\n",
    "plt.plot(price_log)\n",
    "plt.title('logged returns calculated as day(t) over day(t-1)')\n",
    "plt.show()"
   ]
  },
  {
   "cell_type": "code",
   "execution_count": null,
   "metadata": {
    "collapsed": true
   },
   "outputs": [],
   "source": [
    "plt.hist(price_log,bins=25)\n",
    "plt.show()"
   ]
  },
  {
   "cell_type": "code",
   "execution_count": null,
   "metadata": {
    "collapsed": true
   },
   "outputs": [],
   "source": [
    "mro_df.head()"
   ]
  },
  {
   "cell_type": "code",
   "execution_count": null,
   "metadata": {
    "collapsed": true
   },
   "outputs": [],
   "source": [
    "logs=np.log(mro_df['returns'].as_matrix())"
   ]
  },
  {
   "cell_type": "code",
   "execution_count": null,
   "metadata": {
    "collapsed": true
   },
   "outputs": [],
   "source": [
    "plt.close()\n",
    "plt.subplot(121)\n",
    "plt.plot(np.log(mro_df['low'].as_matrix()))\n",
    "plt.subplot(122)\n",
    "plt.plot(mro_df['low'])\n",
    "plt.xticks(rotation=45)\n",
    "plt.show()"
   ]
  },
  {
   "cell_type": "markdown",
   "metadata": {},
   "source": [
    "If prices are in logs, then the difference in prices are a good proxy for the percent change in price movement. The difference  in the logs of two different prices is the same as the log ratio of those prices:\n",
    "\n",
    "math.log(25)-math.log(20) = math.log(25/20)"
   ]
  },
  {
   "cell_type": "markdown",
   "metadata": {},
   "source": [
    "### Testing for random walk\n",
    "We make a distinction between a random walk and white noise. A random walk considers the price movement of an asset, while white noise is based on its returns. Today's price is yesterday's price plus some random noise - this is the random walk. White noise on the other hand can be distribution based - whereas deviations from historical returns can be compared to a mathematical/statistical distribution.\n",
    "Regress prices on a lag price. If the coefficient is not significantly different from 1, then we cannot reject the null hypothesis that it is a random walk. You can also apply a **Dickey-Fuller** test."
   ]
  },
  {
   "cell_type": "code",
   "execution_count": null,
   "metadata": {
    "collapsed": true
   },
   "outputs": [],
   "source": [
    "from statsmodels.tsa.stattools import adfuller"
   ]
  },
  {
   "cell_type": "code",
   "execution_count": null,
   "metadata": {
    "collapsed": true
   },
   "outputs": [],
   "source": [
    "results=adfuller(mro_df['low'])\n",
    "print('the p-value is {}'.format(results[1]))\n",
    "print('This does not meet the 5% significance level, and so we cannot reject the null hypothesis that prices follow a random walk')"
   ]
  },
  {
   "cell_type": "markdown",
   "metadata": {},
   "source": [
    "### Stationarity\n",
    "There is strong form and semi-strong form - where the mean and variance are independent of time. White noise is stationary. Random walk is actually not stationary as the variance increases with time: we know a lot less about the possible values of a series a time far off in the future than we do one nearer in time. Lack of stationarity does not lend itself to modeling as the number of parameters is great to account for the changing nature of the mean and variance. We can make adjustments/transformations to the series to make it stationary. These include a mix of lag differences (appropriate for series with seasonalities) and log transforms to remove trended data."
   ]
  },
  {
   "cell_type": "markdown",
   "metadata": {},
   "source": [
    "### Using the autocorr\n",
    "Autocorrelation tests for correlation of a time series lagging the independent variable. A statistically significant autocorrelation statistic implies the absence of white noise... there is a non-random component to the path of returns. Removing this seasonality from the time series with a diff() application, can turn the series stationary. This can be tested by re-running the autocorr function acf()."
   ]
  }
 ],
 "metadata": {
  "kernelspec": {
   "display_name": "Python 3",
   "language": "python",
   "name": "python3"
  },
  "language_info": {
   "codemirror_mode": {
    "name": "ipython",
    "version": 3
   },
   "file_extension": ".py",
   "mimetype": "text/x-python",
   "name": "python",
   "nbconvert_exporter": "python",
   "pygments_lexer": "ipython3",
   "version": "3.6.3"
  }
 },
 "nbformat": 4,
 "nbformat_minor": 2
}
