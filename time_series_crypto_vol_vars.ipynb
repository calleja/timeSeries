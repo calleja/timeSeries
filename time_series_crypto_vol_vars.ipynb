{
 "cells": [
  {
   "cell_type": "code",
   "execution_count": 1,
   "metadata": {},
   "outputs": [
    {
     "name": "stderr",
     "output_type": "stream",
     "text": [
      "/home/lechuza/anaconda3/lib/python3.6/site-packages/statsmodels/compat/pandas.py:56: FutureWarning: The pandas.core.datetools module is deprecated and will be removed in a future version. Please use the pandas.tseries module instead.\n",
      "  from pandas.core import datetools\n",
      "Using TensorFlow backend.\n"
     ]
    }
   ],
   "source": [
    "import pandas as pd\n",
    "import requests\n",
    "import matplotlib.pyplot as plt\n",
    "import statsmodels.api as sm\n",
    "import datetime\n",
    "from statsmodels.graphics.tsaplots import plot_acf\n",
    "import math\n",
    "import numpy as np\n",
    "import seaborn as sbs\n",
    "from sklearn import preprocessing\n",
    "from sklearn.metrics import mean_squared_error, r2_score, mean_absolute_error\n",
    "from keras.models import Sequential\n",
    "from keras.layers import Dense\n",
    "from keras.layers import LSTM\n",
    "\n",
    "%matplotlib inline \n",
    " \n",
    "plt.rcParams['figure.figsize']=(8,6)\n",
    "plt.style.use('ggplot')"
   ]
  },
  {
   "cell_type": "code",
   "execution_count": 2,
   "metadata": {
    "collapsed": true
   },
   "outputs": [],
   "source": [
    "base_currency = 'BTC'\n",
    "#argument needs to be in the form of a string\n",
    "def get250Day(ticker):\n",
    "        ''' Acquire historical prices from CRYPTOCOMPARE '''\n",
    "        url='https://min-api.cryptocompare.com/data/histoday'\n",
    "        #will return a str\n",
    "#prices from last 200 days\n",
    "        parameters= {'fsym':ticker, 'tsym': base_currency, 'e': 'Bittrex', 'aggregate':1,'limit':250}\n",
    "        \n",
    "        r=requests.get(url,parameters)\n",
    "        #handle this error in the calling class\n",
    "        j_obj=r.json()\n",
    "        if j_obj['Response']=='Error':\n",
    "            print(j_obj)\n",
    "            #print(\"fetch didn't work\")\n",
    "            raise RuntimeError\n",
    "        raw_time=j_obj['Data']\n",
    "        df=pd.DataFrame.from_dict(raw_time)\n",
    "        df['time']=df['time'].apply(lambda x: datetime.datetime.fromtimestamp(x))\n",
    "        df.index=pd.to_datetime(df.time)\n",
    "        return(df)"
   ]
  },
  {
   "cell_type": "code",
   "execution_count": 3,
   "metadata": {},
   "outputs": [
    {
     "data": {
      "text/plain": [
       "close                float64\n",
       "high                 float64\n",
       "low                  float64\n",
       "open                 float64\n",
       "time          datetime64[ns]\n",
       "volumefrom           float64\n",
       "volumeto             float64\n",
       "dtype: object"
      ]
     },
     "execution_count": 3,
     "metadata": {},
     "output_type": "execute_result"
    }
   ],
   "source": [
    "mro_df=get250Day('XMR')\n",
    "mro_df.dtypes"
   ]
  },
  {
   "cell_type": "code",
   "execution_count": 4,
   "metadata": {
    "collapsed": true
   },
   "outputs": [],
   "source": [
    "#prepare the dataframe for volatility calc\n",
    "mro_df['hi_low_log']=mro_df.apply(lambda x: np.log(x['high']/x['low'])**2,axis=1)"
   ]
  },
  {
   "cell_type": "code",
   "execution_count": 5,
   "metadata": {
    "collapsed": true
   },
   "outputs": [],
   "source": [
    "mro_df['mid']=mro_df.apply(lambda x: np.mean([x['high'],x['low']]),axis=1)"
   ]
  },
  {
   "cell_type": "markdown",
   "metadata": {},
   "source": [
    "#### Variable calculation: Rolling mean of length 2, 5, 15 and volatility calculation over past 3 and 15 days\n",
    "The API pulls daily data"
   ]
  },
  {
   "cell_type": "code",
   "execution_count": 6,
   "metadata": {
    "collapsed": true
   },
   "outputs": [],
   "source": [
    "def parkinson(df,window):\n",
    "    #return(np.log(max(df['high'])/min(df['low']))**2\n",
    "    return(np.sqrt((1/(4*np.log(2))*sum(df['hi_low_log']))/window))"
   ]
  },
  {
   "cell_type": "code",
   "execution_count": 7,
   "metadata": {
    "collapsed": true
   },
   "outputs": [],
   "source": [
    "def rolling_apply(df,window):\n",
    "    i=np.arange(df.shape[0]+1-window)\n",
    "    results=np.zeros(df.shape[0])\n",
    "    for g in i:\n",
    "        results[g+window-1]=parkinson(df.iloc[g:window+g,],window)\n",
    "    return(results)"
   ]
  },
  {
   "cell_type": "code",
   "execution_count": 8,
   "metadata": {
    "collapsed": true
   },
   "outputs": [],
   "source": [
    "test=rolling_apply(mro_df.iloc[0:5,],3)"
   ]
  },
  {
   "cell_type": "code",
   "execution_count": 9,
   "metadata": {
    "collapsed": true
   },
   "outputs": [],
   "source": [
    "mro_df['vol_3day']=rolling_apply(mro_df,3)\n",
    "mro_df['vol_15day']=rolling_apply(mro_df,15)"
   ]
  },
  {
   "cell_type": "code",
   "execution_count": 10,
   "metadata": {
    "collapsed": true
   },
   "outputs": [],
   "source": [
    "#rolling mean\n",
    "roll_2=mro_df[['mid']].rolling(2).mean()\n",
    "roll_5=mro_df[['mid']].rolling(5).mean()\n",
    "roll_15=mro_df[['mid']].rolling(15).mean()"
   ]
  },
  {
   "cell_type": "markdown",
   "metadata": {},
   "source": [
    "Need to fix column names... then calculate the MA on the daily midpoint."
   ]
  },
  {
   "cell_type": "code",
   "execution_count": 11,
   "metadata": {
    "collapsed": true
   },
   "outputs": [],
   "source": [
    "roll_2.columns=[i+'_MA2' for i in roll_2.columns]\n",
    "roll_5.columns=[i+'_MA5' for i in roll_5.columns]\n",
    "roll_15.columns=[i+'_MA15' for i in roll_15.columns]"
   ]
  },
  {
   "cell_type": "code",
   "execution_count": 12,
   "metadata": {
    "collapsed": true
   },
   "outputs": [],
   "source": [
    "#concatenate the dataframes\n",
    "aggd=pd.concat([mro_df,roll_2,roll_5,roll_15],axis=1)"
   ]
  },
  {
   "cell_type": "markdown",
   "metadata": {},
   "source": [
    "Calculate proportion mid price is above/below the MA prices."
   ]
  },
  {
   "cell_type": "code",
   "execution_count": 13,
   "metadata": {
    "collapsed": true
   },
   "outputs": [],
   "source": [
    "#test=aggd.apply(lambda x: (x[8]/x[11], x[8]/x[12], x[8]/x[13]),axis=1)\n",
    "test2=aggd.apply(lambda x: x[8]/x[11],axis=1)\n",
    "test5=aggd.apply(lambda x: x[8]/x[12],axis=1)\n",
    "test15=aggd.apply(lambda x: x[8]/x[13],axis=1)"
   ]
  },
  {
   "cell_type": "code",
   "execution_count": 14,
   "metadata": {},
   "outputs": [
    {
     "data": {
      "text/plain": [
       "(251, 3)"
      ]
     },
     "execution_count": 14,
     "metadata": {},
     "output_type": "execute_result"
    }
   ],
   "source": [
    "test_df=pd.concat([test2,test5,test15],axis=1)\n",
    "test_df.shape"
   ]
  },
  {
   "cell_type": "code",
   "execution_count": 15,
   "metadata": {
    "collapsed": true
   },
   "outputs": [],
   "source": [
    "var_df=pd.concat([aggd,test_df],axis=1)"
   ]
  },
  {
   "cell_type": "code",
   "execution_count": 16,
   "metadata": {
    "collapsed": true
   },
   "outputs": [],
   "source": [
    "lista=[x for x in var_df.columns]\n",
    "lista[-3:]=['prop2','prop5','prop15']\n",
    "var_df.columns=lista\n",
    "var_df['mid_ln']=np.log(var_df['mid'])"
   ]
  },
  {
   "cell_type": "markdown",
   "metadata": {},
   "source": [
    "### Test for serial correlation among the variables"
   ]
  },
  {
   "cell_type": "code",
   "execution_count": 17,
   "metadata": {
    "collapsed": true
   },
   "outputs": [],
   "source": [
    "serials=var_df[['mid','vol_3day','vol_15day','prop2','prop5','prop15']].corr()"
   ]
  },
  {
   "cell_type": "code",
   "execution_count": 18,
   "metadata": {},
   "outputs": [
    {
     "data": {
      "image/png": "[encoded data removed]",
      "text/plain": [
       "<matplotlib.figure.Figure at 0x7fe5a29f1e80>"
      ]
     },
     "metadata": {},
     "output_type": "display_data"
    }
   ],
   "source": [
    "sbs.heatmap(serials)\n",
    "plt.title('Correlation among variables')\n",
    "plt.show()"
   ]
  },
  {
   "cell_type": "code",
   "execution_count": 19,
   "metadata": {
    "collapsed": true
   },
   "outputs": [],
   "source": [
    "var_df['returns']=var_df['mid'].pct_change()\n",
    "var_df['ln_diff']=var_df['mid_ln'].diff()\n",
    "var_df['std_price']=var_df['mid'].rolling(window=21).std()\n",
    "var_df['std_returns']= var_df['returns'].rolling(window=21).std()"
   ]
  },
  {
   "cell_type": "markdown",
   "metadata": {},
   "source": [
    "The acf function is part of the statsmodels.graphics.tsaplots module"
   ]
  },
  {
   "cell_type": "markdown",
   "metadata": {},
   "source": [
    "Plot the price of MRO along with standard deviation of a rolling window."
   ]
  },
  {
   "cell_type": "code",
   "execution_count": 20,
   "metadata": {},
   "outputs": [
    {
     "data": {
      "image/png": "[encoded data removed]",
      "text/plain": [
       "<matplotlib.figure.Figure at 0x7fe59b8d8588>"
      ]
     },
     "metadata": {},
     "output_type": "display_data"
    }
   ],
   "source": [
    "plt.close()\n",
    "plt.plot(var_df['std_price'],color='blue')\n",
    "plt.plot(var_df['mid'])\n",
    "#plt.xticks(mro_df['returns'].index.values)\n",
    "plt.title('Daily price of MRO overlaid on 21-day std of price')\n",
    "plt.xticks(rotation=45)\n",
    "plt.show()"
   ]
  },
  {
   "cell_type": "code",
   "execution_count": 21,
   "metadata": {},
   "outputs": [
    {
     "data": {
      "image/png": "[encoded data removed]",
      "text/plain": [
       "<matplotlib.figure.Figure at 0x7fe59b814a58>"
      ]
     },
     "metadata": {},
     "output_type": "display_data"
    }
   ],
   "source": [
    "plt.close()\n",
    "plt.plot(var_df['returns'])\n",
    "plt.plot(var_df['std_returns'],color='blue')\n",
    "#plt.xticks(mro_df['returns'].index.values)\n",
    "plt.title('Daily returns of daily midpoint overlaid on 21-day rolling std of those returns')\n",
    "plt.xticks(rotation=45)\n",
    "plt.show()"
   ]
  },
  {
   "cell_type": "code",
   "execution_count": 22,
   "metadata": {},
   "outputs": [
    {
     "data": {
      "image/png": "[encoded data removed]",
      "text/plain": [
       "<matplotlib.figure.Figure at 0x7fe59b7b3c18>"
      ]
     },
     "metadata": {},
     "output_type": "display_data"
    }
   ],
   "source": [
    "plot_acf(var_df['returns'][1:],lags=20,alpha=.05)\n",
    "plt.title('Autocorrelation on daily returns - midpoint of the day as unit')\n",
    "plt.show()"
   ]
  },
  {
   "cell_type": "markdown",
   "metadata": {},
   "source": [
    "On the above we see the inclusion of confidence intervals around the autocorrelation calculations. Confidence intervals are the bands above and below zero where a statistically significant divergence from 0 cannot be claimed at 95% confidence. This mechanism makes use of the standard normal distribution and calculates the variance with 0 at the mean - 95% of the spread of distribution is contained within 1.96 times the standard deviation. The standard deviation is calculated as 1/sqrt(N)... N = # of observations. What would be interesting is to extract the confidence bands from the plot_acf function to see if the standard deviation and subsequently the N changes with the differing number of observations."
   ]
  },
  {
   "cell_type": "markdown",
   "metadata": {},
   "source": [
    "## Model Fitting\n",
    "\n",
    "The first model we fit is an **ARIMA** model on the totally untreated data: daily prices of MRO - choose later if we want to include a seasonality order parameter. We arrive at the optimal model via an iterative process fitting permutations of parameter values and selecting the model with the lowest AIC score - a stastic that measures goodness of fit. Keep in mind, this measure uses in-sample data."
   ]
  },
  {
   "cell_type": "code",
   "execution_count": 23,
   "metadata": {
    "collapsed": true
   },
   "outputs": [],
   "source": [
    "p = d = q = range(0, 3)"
   ]
  },
  {
   "cell_type": "markdown",
   "metadata": {},
   "source": [
    "### Fitting a model using a combination of variables"
   ]
  },
  {
   "cell_type": "markdown",
   "metadata": {},
   "source": [
    "#### The first algorithm: facebook's fbProphet package\n",
    "We predict two weeks out at a daily frequency. We will fit the model using the entire datset first. Later, we will fit on a training set, which we will need to isolate and test the model's performance."
   ]
  },
  {
   "cell_type": "code",
   "execution_count": 24,
   "metadata": {
    "collapsed": true
   },
   "outputs": [],
   "source": [
    "import fbprophet"
   ]
  },
  {
   "cell_type": "code",
   "execution_count": 25,
   "metadata": {},
   "outputs": [
    {
     "name": "stderr",
     "output_type": "stream",
     "text": [
      "INFO:fbprophet.forecaster:Disabling yearly seasonality. Run prophet with yearly_seasonality=True to override this.\n"
     ]
    },
    {
     "data": {
      "text/plain": [
       "<fbprophet.forecaster.Prophet at 0x7fe59b7f9e10>"
      ]
     },
     "execution_count": 25,
     "metadata": {},
     "output_type": "execute_result"
    }
   ],
   "source": [
    "#requires resetting the datetime index and renaming to 'ds', and setting the dependent variable column name to 'y'\n",
    "fb_version=var_df.rename(columns={'time':'ds','mid':'y'})\n",
    "ts_prophet=fbprophet.Prophet(changepoint_prior_scale=0.15)\n",
    "#fb_version.dtypes\n",
    "fb_version[['y','ds','vol_3day','vol_15day','prop2','prop5','prop15','returns']].head()\n",
    "ts_prophet.fit(fb_version[['y','ds','vol_3day','vol_15day','prop2','prop5','prop15','returns']])"
   ]
  },
  {
   "cell_type": "code",
   "execution_count": 26,
   "metadata": {
    "collapsed": true
   },
   "outputs": [],
   "source": [
    "ts_forecast=ts_prophet.make_future_dataframe(periods=14,freq='D')\n",
    "ts_forecast=ts_prophet.predict(ts_forecast)"
   ]
  },
  {
   "cell_type": "code",
   "execution_count": 27,
   "metadata": {},
   "outputs": [
    {
     "data": {
      "image/png": "[encoded data removed]",
      "text/plain": [
       "<matplotlib.figure.Figure at 0x7fe5929443c8>"
      ]
     },
     "metadata": {},
     "output_type": "display_data"
    }
   ],
   "source": [
    "#plot\n",
    "plt.close()\n",
    "ts_prophet.plot(ts_forecast,xlabel='Date', ylabel='MRO Price')\n",
    "plt.show()"
   ]
  },
  {
   "cell_type": "markdown",
   "metadata": {},
   "source": [
    "The black dots represent the actual values, the blue line indicates the forecasted values, and the light blue shaded region is the uncertainty."
   ]
  },
  {
   "cell_type": "markdown",
   "metadata": {},
   "source": [
    "We will refit the above, only this time using logged MRO prices. We will plot the prediction using the exponentiated yhat values, to get the forecasted data back in MRO/BTC units."
   ]
  },
  {
   "cell_type": "code",
   "execution_count": 28,
   "metadata": {
    "collapsed": true
   },
   "outputs": [],
   "source": [
    "fb_version1=var_df.rename(columns={'time':'ds','mid_ln':'y'})\n",
    "#fb_version.dtypes\n",
    "ts_prophet1=fbprophet.Prophet(changepoint_prior_scale=0.15)"
   ]
  },
  {
   "cell_type": "code",
   "execution_count": 29,
   "metadata": {},
   "outputs": [
    {
     "name": "stderr",
     "output_type": "stream",
     "text": [
      "INFO:fbprophet.forecaster:Disabling yearly seasonality. Run prophet with yearly_seasonality=True to override this.\n"
     ]
    }
   ],
   "source": [
    "fb_version1[['y','ds','vol_3day','vol_15day','prop2','prop5','prop15','returns']].head()\n",
    "ts_prophet1.fit(fb_version1[['y','ds','vol_3day','vol_15day','prop2','prop5','prop15']])\n",
    "ts_forecast1=ts_prophet1.make_future_dataframe(periods=14,freq='D')\n",
    "ts_forecast1=ts_prophet1.predict(ts_forecast)"
   ]
  },
  {
   "cell_type": "code",
   "execution_count": 30,
   "metadata": {
    "collapsed": true
   },
   "outputs": [],
   "source": [
    "ts_forecast1['yhat_exp']=np.exp(ts_forecast1['yhat'])\n",
    "ts_forecast1['yhat_u_exp']=np.exp(ts_forecast1['yhat_upper'])\n",
    "ts_forecast1['yhat_l_exp']=np.exp(ts_forecast1['yhat_lower'])"
   ]
  },
  {
   "cell_type": "code",
   "execution_count": 31,
   "metadata": {},
   "outputs": [
    {
     "data": {
      "image/png": "[encoded data removed]",
      "text/plain": [
       "<matplotlib.figure.Figure at 0x7fe599a813c8>"
      ]
     },
     "metadata": {},
     "output_type": "display_data"
    }
   ],
   "source": [
    "plt.close()\n",
    "# Create subplots to set figure size\n",
    "fig, ax = plt.subplots(1, 1, figsize=(10, 8));\n",
    "\n",
    "# Plot estimate\n",
    "ax.plot(ts_forecast1['ds'], ts_forecast1['yhat_exp'], label = 'MRO prediction');\n",
    "\n",
    "# Plot uncertainty values\n",
    "ax.fill_between(ts_forecast1['ds'].dt.to_pydatetime(), ts_forecast1['yhat_l_exp'], ts_forecast1['yhat_u_exp'], alpha=0.6, edgecolor = 'k');\n",
    "\n",
    "plt.legend();\n",
    "plt.xlabel('Date'); plt.ylabel('btc-mro'); plt.title('MRO-BTC prediction');\n",
    "plt.show()"
   ]
  },
  {
   "cell_type": "markdown",
   "metadata": {},
   "source": [
    "### Model Accuracy Metrics\n",
    "We'll rely on two measures: **R-squared and Mean Absolute Error**\n",
    "\n",
    "It is recommended to create a dataframe of historic values paired with the predicted values - no observations out of sample, where there is no actual/historic data.\n",
    "\n",
    "source: http://pythondata.com/forecasting-time-series-data-with-prophet-part-1/"
   ]
  },
  {
   "cell_type": "code",
   "execution_count": 32,
   "metadata": {
    "collapsed": true
   },
   "outputs": [],
   "source": [
    "#print(mro_df.index[0:5])\n",
    "test=mro_df[['mid']].join(ts_forecast1.set_index('ds')[['yhat_exp']]).reset_index()\n",
    "test.dropna(how='any',inplace=True)"
   ]
  },
  {
   "cell_type": "code",
   "execution_count": 33,
   "metadata": {},
   "outputs": [
    {
     "data": {
      "text/plain": [
       "0.91089675265067238"
      ]
     },
     "execution_count": 33,
     "metadata": {},
     "output_type": "execute_result"
    }
   ],
   "source": [
    "r2_score(test.mid, test.yhat_exp)"
   ]
  },
  {
   "cell_type": "markdown",
   "metadata": {},
   "source": [
    "A pretty damn high R^2, which indicates a likely overfitting."
   ]
  },
  {
   "cell_type": "code",
   "execution_count": 34,
   "metadata": {},
   "outputs": [
    {
     "data": {
      "text/plain": [
       "0.0011423526860440236"
      ]
     },
     "execution_count": 34,
     "metadata": {},
     "output_type": "execute_result"
    }
   ],
   "source": [
    "mean_absolute_error(test.mid, test.yhat_exp)"
   ]
  },
  {
   "cell_type": "markdown",
   "metadata": {},
   "source": [
    "## Second ML model: LSTM with Keras"
   ]
  },
  {
   "cell_type": "markdown",
   "metadata": {},
   "source": [
    "### Model prep: Dataframe transformations\n",
    "The dataframe will need to have all the inputs (independent variables) relabeled with a \"t-i\" format, with the value of \"i\" dependent on the lag. Each row must have the dependent at t0 labeled as such and all the independent variables at their historic values on the same row. \n",
    "\n",
    "Max-min scalar is applied to all float variables - this is how the variables are normalized.\n",
    "Explanation of the min-max scalar transform: http://benalexkeen.com/feature-scaling-with-scikit-learn/\n",
    "Dataframe preparation for a supervised time series model: https://machinelearningmastery.com/convert-time-series-supervised-learning-problem-python/\n",
    "\n",
    "Recall we are working with daily data: one observation per day going back 250 days."
   ]
  },
  {
   "cell_type": "code",
   "execution_count": 35,
   "metadata": {
    "collapsed": true
   },
   "outputs": [],
   "source": [
    "#remove any rows with null values or impute zero values\n",
    "var_df[['mid','vol_3day','vol_15day','prop2','prop5','prop15']]\n",
    "var_df1=var_df.dropna(how='any')[['mid','vol_3day','vol_15day','prop2','prop5','prop15']]"
   ]
  },
  {
   "cell_type": "code",
   "execution_count": 93,
   "metadata": {},
   "outputs": [
    {
     "data": {
      "text/plain": [
       "time\n",
       "2018-04-26 20:00:00    0.028255\n",
       "2018-04-27 20:00:00    0.027835\n",
       "2018-04-28 20:00:00    0.027135\n",
       "2018-04-29 20:00:00    0.026675\n",
       "2018-04-30 20:00:00    0.026050\n",
       "2018-05-01 20:00:00    0.026920\n",
       "2018-05-02 20:00:00    0.026030\n",
       "2018-05-03 20:00:00    0.025165\n",
       "2018-05-04 20:00:00    0.024820\n",
       "2018-05-05 20:00:00    0.024440\n",
       "Name: mid, dtype: float64"
      ]
     },
     "execution_count": 93,
     "metadata": {},
     "output_type": "execute_result"
    }
   ],
   "source": [
    "var_df['mid'].tail(10)"
   ]
  },
  {
   "cell_type": "code",
   "execution_count": 112,
   "metadata": {},
   "outputs": [
    {
     "name": "stdout",
     "output_type": "stream",
     "text": [
      "(230, 5)\n",
      "(230, 16)\n"
     ]
    }
   ],
   "source": [
    "#the more shifts/lags I apply, the more observations removed from the top (earliest) of the dataset\n",
    "#will rename each column per the convention provided in the LTSM article... \n",
    "#will also need to shift each independent variable\n",
    "#a function to iteratively append higher rows to later observations\n",
    "lags=3 #applying three lags\n",
    "temp_df=var_df1.iloc[:,1:]\n",
    "print(temp_df.shape)\n",
    "lista=[]\n",
    "for i in np.arange(1,lags+1,1):\n",
    "    temp_df=temp_df.shift(-1,axis=0)\n",
    "    temp_df.columns=['var'+str(counter+1)+'(t-{})'.format(i) for counter, h in enumerate(temp_df.columns)]\n",
    "    lista.append(temp_df)\n",
    "agg_df=pd.concat(lista,axis=1)\n",
    "agg_df['var(t)']=var_df1['mid']\n",
    "print(agg_df.shape)"
   ]
  },
  {
   "cell_type": "code",
   "execution_count": 113,
   "metadata": {
    "collapsed": true
   },
   "outputs": [],
   "source": [
    "agg_df.dropna(how='any',inplace=True)\n",
    "agg_arr=agg_df.values.astype('float32')"
   ]
  },
  {
   "cell_type": "code",
   "execution_count": 114,
   "metadata": {},
   "outputs": [
    {
     "name": "stdout",
     "output_type": "stream",
     "text": [
      "(227, 16)\n"
     ]
    }
   ],
   "source": [
    "print(agg_df.shape) #lose 3 records from lagging"
   ]
  },
  {
   "cell_type": "code",
   "execution_count": 67,
   "metadata": {},
   "outputs": [
    {
     "data": {
      "text/plain": [
       "var1(t-1)    float64\n",
       "var2(t-1)    float64\n",
       "var3(t-1)    float64\n",
       "var4(t-1)    float64\n",
       "var5(t-1)    float64\n",
       "var1(t-2)    float64\n",
       "var2(t-2)    float64\n",
       "var3(t-2)    float64\n",
       "var4(t-2)    float64\n",
       "var5(t-2)    float64\n",
       "var1(t-3)    float64\n",
       "var2(t-3)    float64\n",
       "var3(t-3)    float64\n",
       "var4(t-3)    float64\n",
       "var5(t-3)    float64\n",
       "var(t)       float64\n",
       "dtype: object"
      ]
     },
     "execution_count": 67,
     "metadata": {},
     "output_type": "execute_result"
    }
   ],
   "source": [
    "agg_df.head()\n",
    "agg_df.dtypes"
   ]
  },
  {
   "cell_type": "code",
   "execution_count": 110,
   "metadata": {},
   "outputs": [
    {
     "data": {
      "text/plain": [
       "time\n",
       "2018-04-28 20:00:00    0.027135\n",
       "2018-04-29 20:00:00    0.026675\n",
       "2018-04-30 20:00:00    0.026050\n",
       "2018-05-01 20:00:00    0.026920\n",
       "2018-05-02 20:00:00    0.026030\n",
       "Name: var(t), dtype: float64"
      ]
     },
     "execution_count": 110,
     "metadata": {},
     "output_type": "execute_result"
    }
   ],
   "source": [
    "agg_df['var(t)'].tail()"
   ]
  },
  {
   "cell_type": "code",
   "execution_count": 115,
   "metadata": {},
   "outputs": [
    {
     "data": {
      "text/plain": [
       "time\n",
       "2018-05-01 20:00:00    0.026920\n",
       "2018-05-02 20:00:00    0.026030\n",
       "2018-05-03 20:00:00    0.025165\n",
       "2018-05-04 20:00:00    0.024820\n",
       "2018-05-05 20:00:00    0.024440\n",
       "Name: mid, dtype: float64"
      ]
     },
     "execution_count": 115,
     "metadata": {},
     "output_type": "execute_result"
    }
   ],
   "source": [
    "var_df1['mid'].tail()"
   ]
  },
  {
   "cell_type": "markdown",
   "metadata": {},
   "source": [
    "We don't know which of the above 15 explanatory variables are significant, and we may not be able to extract that information from the ML models, so we can resort to a multiple regression to get insight... (remains to be coded)."
   ]
  },
  {
   "cell_type": "markdown",
   "metadata": {},
   "source": [
    "The column headers and data is laid out per requirements. Final step is to \"normalize\" the data... this is done columnwise. "
   ]
  },
  {
   "cell_type": "code",
   "execution_count": 143,
   "metadata": {
    "collapsed": true
   },
   "outputs": [],
   "source": [
    "scaler = preprocessing.MinMaxScaler(feature_range=(0, 1))\n",
    "scaled = scaler.fit_transform(agg_arr)"
   ]
  },
  {
   "cell_type": "code",
   "execution_count": 53,
   "metadata": {},
   "outputs": [
    {
     "name": "stdout",
     "output_type": "stream",
     "text": [
      "(227, 16)\n",
      "(227, 16)\n",
      "<class 'numpy.ndarray'>\n",
      "<class 'numpy.ndarray'>\n"
     ]
    }
   ],
   "source": [
    "print(agg_arr.shape)\n",
    "print(scaled.shape)\n",
    "print(type(agg_arr))\n",
    "print(type(scaled))"
   ]
  },
  {
   "cell_type": "code",
   "execution_count": 144,
   "metadata": {
    "collapsed": true
   },
   "outputs": [],
   "source": [
    "df=pd.DataFrame(scaled,columns=agg_df.columns)"
   ]
  },
  {
   "cell_type": "code",
   "execution_count": 116,
   "metadata": {},
   "outputs": [
    {
     "data": {
      "text/plain": [
       "var1(t-1)    float32\n",
       "var2(t-1)    float32\n",
       "var3(t-1)    float32\n",
       "var4(t-1)    float32\n",
       "var5(t-1)    float32\n",
       "var1(t-2)    float32\n",
       "var2(t-2)    float32\n",
       "var3(t-2)    float32\n",
       "var4(t-2)    float32\n",
       "var5(t-2)    float32\n",
       "var1(t-3)    float32\n",
       "var2(t-3)    float32\n",
       "var3(t-3)    float32\n",
       "var4(t-3)    float32\n",
       "var5(t-3)    float32\n",
       "var(t)       float32\n",
       "dtype: object"
      ]
     },
     "execution_count": 116,
     "metadata": {},
     "output_type": "execute_result"
    }
   ],
   "source": [
    "df.dtypes"
   ]
  },
  {
   "cell_type": "markdown",
   "metadata": {},
   "source": [
    "Splitting the dataset into a training and testing set. Need to decide on the length of each... there are 236 observations in the current dataset at this point.\n",
    "I'll split at 200 for the test and 36 for the prediction - the reason for this extensive allocation to the training set is the volatile and disparate nature of the price history."
   ]
  },
  {
   "cell_type": "code",
   "execution_count": 145,
   "metadata": {},
   "outputs": [
    {
     "name": "stdout",
     "output_type": "stream",
     "text": [
      "(200, 1, 15) (200,) (27, 1, 15) (27,)\n"
     ]
    }
   ],
   "source": [
    "values = df.values\n",
    "n_train_days = 200\n",
    "train = values[:n_train_days, :]\n",
    "test = values[n_train_days:, :]\n",
    "# split into input and outputs\n",
    "train_X, train_y = train[:, :-1], train[:, -1]\n",
    "test_X, test_y = test[:, :-1], test[:, -1]\n",
    "# reshape input to be 3D [samples, timesteps, features]\n",
    "train_X = train_X.reshape((train_X.shape[0], 1, train_X.shape[1]))\n",
    "test_X = test_X.reshape((test_X.shape[0], 1, test_X.shape[1]))\n",
    "print(train_X.shape, train_y.shape, test_X.shape, test_y.shape)"
   ]
  },
  {
   "cell_type": "code",
   "execution_count": 140,
   "metadata": {},
   "outputs": [
    {
     "data": {
      "text/plain": [
       "array([[[ 0.13256201,  0.32807618,  0.49845362,  0.21110392,  0.23691607,\n",
       "          0.13082349,  0.3301124 ,  0.48370314,  0.22237229,  0.19507527,\n",
       "          0.11404162,  0.33274651,  0.6099    ,  0.33013773,  0.23509908]],\n",
       "\n",
       "       [[ 0.13082349,  0.3301124 ,  0.48370314,  0.22237229,  0.19507527,\n",
       "          0.11404162,  0.33274651,  0.6099    ,  0.33013773,  0.23509908,\n",
       "          0.12963623,  0.2581172 ,  0.46159363,  0.27880812,  0.19047868]],\n",
       "\n",
       "       [[ 0.11404162,  0.33274651,  0.6099    ,  0.33013773,  0.23509908,\n",
       "          0.12963623,  0.2581172 ,  0.46159363,  0.27880812,  0.19047868,\n",
       "          0.13203654,  0.25502551,  0.46120119,  0.23164463,  0.15259004]],\n",
       "\n",
       "       [[ 0.12963623,  0.2581172 ,  0.46159363,  0.27880812,  0.19047868,\n",
       "          0.13203654,  0.25502551,  0.46120119,  0.23164463,  0.15259004,\n",
       "          0.11229286,  0.24153374,  0.50580168,  0.23282146,  0.14900529]],\n",
       "\n",
       "       [[ 0.13203654,  0.25502551,  0.46120119,  0.23164463,  0.15259004,\n",
       "          0.11229286,  0.24153374,  0.50580168,  0.23282146,  0.14900529,\n",
       "          0.02303756,  0.21169038,  0.50217772,  0.22572017,  0.14335048]]], dtype=float32)"
      ]
     },
     "execution_count": 140,
     "metadata": {},
     "output_type": "execute_result"
    }
   ],
   "source": [
    "test_X[-5:]"
   ]
  },
  {
   "cell_type": "code",
   "execution_count": 142,
   "metadata": {},
   "outputs": [
    {
     "data": {
      "text/html": [
       "<div>\n",
       "<style>\n",
       "    .dataframe thead tr:only-child th {\n",
       "        text-align: right;\n",
       "    }\n",
       "\n",
       "    .dataframe thead th {\n",
       "        text-align: left;\n",
       "    }\n",
       "\n",
       "    .dataframe tbody tr th {\n",
       "        vertical-align: top;\n",
       "    }\n",
       "</style>\n",
       "<table border=\"1\" class=\"dataframe\">\n",
       "  <thead>\n",
       "    <tr style=\"text-align: right;\">\n",
       "      <th></th>\n",
       "      <th>var1(t-1)</th>\n",
       "      <th>var2(t-1)</th>\n",
       "      <th>var3(t-1)</th>\n",
       "      <th>var4(t-1)</th>\n",
       "      <th>var5(t-1)</th>\n",
       "      <th>var1(t-2)</th>\n",
       "      <th>var2(t-2)</th>\n",
       "      <th>var3(t-2)</th>\n",
       "      <th>var4(t-2)</th>\n",
       "      <th>var5(t-2)</th>\n",
       "      <th>var1(t-3)</th>\n",
       "      <th>var2(t-3)</th>\n",
       "      <th>var3(t-3)</th>\n",
       "      <th>var4(t-3)</th>\n",
       "      <th>var5(t-3)</th>\n",
       "    </tr>\n",
       "  </thead>\n",
       "  <tbody>\n",
       "    <tr>\n",
       "      <th>222</th>\n",
       "      <td>0.132562</td>\n",
       "      <td>0.328076</td>\n",
       "      <td>0.498454</td>\n",
       "      <td>0.211104</td>\n",
       "      <td>0.236916</td>\n",
       "      <td>0.130823</td>\n",
       "      <td>0.330112</td>\n",
       "      <td>0.483703</td>\n",
       "      <td>0.222372</td>\n",
       "      <td>0.195075</td>\n",
       "      <td>0.114042</td>\n",
       "      <td>0.332747</td>\n",
       "      <td>0.609900</td>\n",
       "      <td>0.330138</td>\n",
       "      <td>0.235099</td>\n",
       "    </tr>\n",
       "    <tr>\n",
       "      <th>223</th>\n",
       "      <td>0.130823</td>\n",
       "      <td>0.330112</td>\n",
       "      <td>0.483703</td>\n",
       "      <td>0.222372</td>\n",
       "      <td>0.195075</td>\n",
       "      <td>0.114042</td>\n",
       "      <td>0.332747</td>\n",
       "      <td>0.609900</td>\n",
       "      <td>0.330138</td>\n",
       "      <td>0.235099</td>\n",
       "      <td>0.129636</td>\n",
       "      <td>0.258117</td>\n",
       "      <td>0.461594</td>\n",
       "      <td>0.278808</td>\n",
       "      <td>0.190479</td>\n",
       "    </tr>\n",
       "    <tr>\n",
       "      <th>224</th>\n",
       "      <td>0.114042</td>\n",
       "      <td>0.332747</td>\n",
       "      <td>0.609900</td>\n",
       "      <td>0.330138</td>\n",
       "      <td>0.235099</td>\n",
       "      <td>0.129636</td>\n",
       "      <td>0.258117</td>\n",
       "      <td>0.461594</td>\n",
       "      <td>0.278808</td>\n",
       "      <td>0.190479</td>\n",
       "      <td>0.132037</td>\n",
       "      <td>0.255026</td>\n",
       "      <td>0.461201</td>\n",
       "      <td>0.231645</td>\n",
       "      <td>0.152590</td>\n",
       "    </tr>\n",
       "    <tr>\n",
       "      <th>225</th>\n",
       "      <td>0.129636</td>\n",
       "      <td>0.258117</td>\n",
       "      <td>0.461594</td>\n",
       "      <td>0.278808</td>\n",
       "      <td>0.190479</td>\n",
       "      <td>0.132037</td>\n",
       "      <td>0.255026</td>\n",
       "      <td>0.461201</td>\n",
       "      <td>0.231645</td>\n",
       "      <td>0.152590</td>\n",
       "      <td>0.112293</td>\n",
       "      <td>0.241534</td>\n",
       "      <td>0.505802</td>\n",
       "      <td>0.232821</td>\n",
       "      <td>0.149005</td>\n",
       "    </tr>\n",
       "    <tr>\n",
       "      <th>226</th>\n",
       "      <td>0.132037</td>\n",
       "      <td>0.255026</td>\n",
       "      <td>0.461201</td>\n",
       "      <td>0.231645</td>\n",
       "      <td>0.152590</td>\n",
       "      <td>0.112293</td>\n",
       "      <td>0.241534</td>\n",
       "      <td>0.505802</td>\n",
       "      <td>0.232821</td>\n",
       "      <td>0.149005</td>\n",
       "      <td>0.023038</td>\n",
       "      <td>0.211690</td>\n",
       "      <td>0.502178</td>\n",
       "      <td>0.225720</td>\n",
       "      <td>0.143350</td>\n",
       "    </tr>\n",
       "  </tbody>\n",
       "</table>\n",
       "</div>"
      ],
      "text/plain": [
       "     var1(t-1)  var2(t-1)  var3(t-1)  var4(t-1)  var5(t-1)  var1(t-2)  \\\n",
       "222   0.132562   0.328076   0.498454   0.211104   0.236916   0.130823   \n",
       "223   0.130823   0.330112   0.483703   0.222372   0.195075   0.114042   \n",
       "224   0.114042   0.332747   0.609900   0.330138   0.235099   0.129636   \n",
       "225   0.129636   0.258117   0.461594   0.278808   0.190479   0.132037   \n",
       "226   0.132037   0.255026   0.461201   0.231645   0.152590   0.112293   \n",
       "\n",
       "     var2(t-2)  var3(t-2)  var4(t-2)  var5(t-2)  var1(t-3)  var2(t-3)  \\\n",
       "222   0.330112   0.483703   0.222372   0.195075   0.114042   0.332747   \n",
       "223   0.332747   0.609900   0.330138   0.235099   0.129636   0.258117   \n",
       "224   0.258117   0.461594   0.278808   0.190479   0.132037   0.255026   \n",
       "225   0.255026   0.461201   0.231645   0.152590   0.112293   0.241534   \n",
       "226   0.241534   0.505802   0.232821   0.149005   0.023038   0.211690   \n",
       "\n",
       "     var3(t-3)  var4(t-3)  var5(t-3)  \n",
       "222   0.609900   0.330138   0.235099  \n",
       "223   0.461594   0.278808   0.190479  \n",
       "224   0.461201   0.231645   0.152590  \n",
       "225   0.505802   0.232821   0.149005  \n",
       "226   0.502178   0.225720   0.143350  "
      ]
     },
     "execution_count": 142,
     "metadata": {},
     "output_type": "execute_result"
    }
   ],
   "source": [
    "df.iloc[:,:-1].tail()"
   ]
  },
  {
   "cell_type": "code",
   "execution_count": 136,
   "metadata": {},
   "outputs": [
    {
     "name": "stdout",
     "output_type": "stream",
     "text": [
      "191    0.616499\n",
      "192    0.607619\n",
      "193    0.641505\n",
      "194    0.651788\n",
      "195    0.642206\n",
      "196    0.627717\n",
      "197    0.630755\n",
      "198    0.636364\n",
      "199    0.634260\n",
      "200    0.605983\n",
      "201    0.600608\n",
      "202    0.612526\n",
      "Name: var(t), dtype: float32\n",
      "[ 0.64220601  0.62771672  0.63075477  0.63636357  0.63426024]\n"
     ]
    }
   ],
   "source": [
    "#these match!\n",
    "print(df['var(t)'][191:203])\n",
    "print(train_y[-5:])"
   ]
  },
  {
   "cell_type": "code",
   "execution_count": 129,
   "metadata": {},
   "outputs": [
    {
     "name": "stdout",
     "output_type": "stream",
     "text": [
      "[[ 0.72470194]\n",
      " [ 0.70320159]\n",
      " [ 0.67398912]\n",
      " [ 0.71465284]\n",
      " [ 0.6730544 ]]\n",
      "222    0.724702\n",
      "223    0.703202\n",
      "224    0.673989\n",
      "225    0.714653\n",
      "226    0.673054\n",
      "Name: var(t), dtype: float32\n"
     ]
    }
   ],
   "source": [
    "print(test_y[-5:])\n",
    "print(df['var(t)'].tail())"
   ]
  },
  {
   "cell_type": "markdown",
   "metadata": {},
   "source": [
    "#### Define and fit the model"
   ]
  },
  {
   "cell_type": "code",
   "execution_count": 149,
   "metadata": {},
   "outputs": [
    {
     "name": "stdout",
     "output_type": "stream",
     "text": [
      "Epoch 1/100\n",
      " - 4s - loss: 0.1815\n",
      "Epoch 2/100\n",
      " - 3s - loss: 0.0859\n",
      "Epoch 3/100\n",
      " - 3s - loss: 0.0777\n",
      "Epoch 4/100\n",
      " - 3s - loss: 0.0729\n",
      "Epoch 5/100\n",
      " - 3s - loss: 0.0686\n",
      "Epoch 6/100\n",
      " - 3s - loss: 0.0659\n",
      "Epoch 7/100\n",
      " - 3s - loss: 0.0640\n",
      "Epoch 8/100\n",
      " - 3s - loss: 0.0631\n",
      "Epoch 9/100\n",
      " - 3s - loss: 0.0610\n",
      "Epoch 10/100\n",
      " - 3s - loss: 0.0598\n",
      "Epoch 11/100\n",
      " - 3s - loss: 0.0586\n",
      "Epoch 12/100\n",
      " - 3s - loss: 0.0566\n",
      "Epoch 13/100\n",
      " - 3s - loss: 0.0553\n",
      "Epoch 14/100\n",
      " - 3s - loss: 0.0533\n",
      "Epoch 15/100\n",
      " - 3s - loss: 0.0517\n",
      "Epoch 16/100\n",
      " - 3s - loss: 0.0494\n",
      "Epoch 17/100\n",
      " - 3s - loss: 0.0471\n",
      "Epoch 18/100\n",
      " - 2s - loss: 0.0458\n",
      "Epoch 19/100\n",
      " - 3s - loss: 0.0440\n",
      "Epoch 20/100\n",
      " - 3s - loss: 0.0429\n",
      "Epoch 21/100\n",
      " - 3s - loss: 0.0413\n",
      "Epoch 22/100\n",
      " - 3s - loss: 0.0409\n",
      "Epoch 23/100\n",
      " - 3s - loss: 0.0399\n",
      "Epoch 24/100\n",
      " - 3s - loss: 0.0392\n",
      "Epoch 25/100\n",
      " - 3s - loss: 0.0392\n",
      "Epoch 26/100\n",
      " - 3s - loss: 0.0379\n",
      "Epoch 27/100\n",
      " - 3s - loss: 0.0379\n",
      "Epoch 28/100\n",
      " - 2s - loss: 0.0377\n",
      "Epoch 29/100\n",
      " - 3s - loss: 0.0375\n",
      "Epoch 30/100\n",
      " - 3s - loss: 0.0373\n",
      "Epoch 31/100\n",
      " - 3s - loss: 0.0362\n",
      "Epoch 32/100\n",
      " - 3s - loss: 0.0374\n",
      "Epoch 33/100\n",
      " - 3s - loss: 0.0367\n",
      "Epoch 34/100\n",
      " - 5s - loss: 0.0363\n",
      "Epoch 35/100\n",
      " - 3s - loss: 0.0364\n",
      "Epoch 36/100\n",
      " - 3s - loss: 0.0364\n",
      "Epoch 37/100\n",
      " - 3s - loss: 0.0362\n",
      "Epoch 38/100\n",
      " - 3s - loss: 0.0358\n",
      "Epoch 39/100\n",
      " - 2s - loss: 0.0356\n",
      "Epoch 40/100\n",
      " - 3s - loss: 0.0359\n",
      "Epoch 41/100\n",
      " - 3s - loss: 0.0357\n",
      "Epoch 42/100\n",
      " - 3s - loss: 0.0355\n",
      "Epoch 43/100\n",
      " - 5s - loss: 0.0354\n",
      "Epoch 44/100\n",
      " - 3s - loss: 0.0349\n",
      "Epoch 45/100\n",
      " - 3s - loss: 0.0356\n",
      "Epoch 46/100\n",
      " - 3s - loss: 0.0352\n",
      "Epoch 47/100\n",
      " - 3s - loss: 0.0346\n",
      "Epoch 48/100\n",
      " - 3s - loss: 0.0346\n",
      "Epoch 49/100\n",
      " - 3s - loss: 0.0346\n",
      "Epoch 50/100\n",
      " - 3s - loss: 0.0341\n",
      "Epoch 51/100\n",
      " - 3s - loss: 0.0342\n",
      "Epoch 52/100\n",
      " - 3s - loss: 0.0343\n",
      "Epoch 53/100\n",
      " - 3s - loss: 0.0341\n",
      "Epoch 54/100\n",
      " - 4s - loss: 0.0339\n",
      "Epoch 55/100\n",
      " - 4s - loss: 0.0336\n",
      "Epoch 56/100\n",
      " - 3s - loss: 0.0333\n",
      "Epoch 57/100\n",
      " - 3s - loss: 0.0343\n",
      "Epoch 58/100\n",
      " - 3s - loss: 0.0334\n",
      "Epoch 59/100\n",
      " - 3s - loss: 0.0334\n",
      "Epoch 60/100\n",
      " - 3s - loss: 0.0336\n",
      "Epoch 61/100\n",
      " - 5s - loss: 0.0335\n",
      "Epoch 62/100\n",
      " - 4s - loss: 0.0325\n",
      "Epoch 63/100\n",
      " - 3s - loss: 0.0334\n",
      "Epoch 64/100\n",
      " - 3s - loss: 0.0337\n",
      "Epoch 65/100\n",
      " - 3s - loss: 0.0334\n",
      "Epoch 66/100\n",
      " - 3s - loss: 0.0327\n",
      "Epoch 67/100\n",
      " - 3s - loss: 0.0330\n",
      "Epoch 68/100\n",
      " - 3s - loss: 0.0328\n",
      "Epoch 69/100\n",
      " - 3s - loss: 0.0328\n",
      "Epoch 70/100\n",
      " - 3s - loss: 0.0323\n",
      "Epoch 71/100\n",
      " - 3s - loss: 0.0327\n",
      "Epoch 72/100\n",
      " - 3s - loss: 0.0322\n",
      "Epoch 73/100\n",
      " - 3s - loss: 0.0321\n",
      "Epoch 74/100\n",
      " - 3s - loss: 0.0317\n",
      "Epoch 75/100\n",
      " - 4s - loss: 0.0314\n",
      "Epoch 76/100\n",
      " - 3s - loss: 0.0323\n",
      "Epoch 77/100\n",
      " - 3s - loss: 0.0318\n",
      "Epoch 78/100\n",
      " - 3s - loss: 0.0323\n",
      "Epoch 79/100\n",
      " - 3s - loss: 0.0324\n",
      "Epoch 80/100\n",
      " - 3s - loss: 0.0317\n",
      "Epoch 81/100\n",
      " - 2s - loss: 0.0317\n",
      "Epoch 82/100\n",
      " - 2s - loss: 0.0318\n",
      "Epoch 83/100\n",
      " - 3s - loss: 0.0319\n",
      "Epoch 84/100\n",
      " - 5s - loss: 0.0313\n",
      "Epoch 85/100\n",
      " - 3s - loss: 0.0314\n",
      "Epoch 86/100\n",
      " - 3s - loss: 0.0317\n",
      "Epoch 87/100\n",
      " - 3s - loss: 0.0310\n",
      "Epoch 88/100\n",
      " - 3s - loss: 0.0315\n",
      "Epoch 89/100\n",
      " - 3s - loss: 0.0312\n",
      "Epoch 90/100\n",
      " - 3s - loss: 0.0316\n",
      "Epoch 91/100\n",
      " - 3s - loss: 0.0309\n",
      "Epoch 92/100\n",
      " - 3s - loss: 0.0312\n",
      "Epoch 93/100\n",
      " - 3s - loss: 0.0309\n",
      "Epoch 94/100\n",
      " - 3s - loss: 0.0315\n",
      "Epoch 95/100\n",
      " - 3s - loss: 0.0315\n",
      "Epoch 96/100\n",
      " - 3s - loss: 0.0316\n",
      "Epoch 97/100\n",
      " - 3s - loss: 0.0311\n",
      "Epoch 98/100\n",
      " - 3s - loss: 0.0309\n",
      "Epoch 99/100\n",
      " - 3s - loss: 0.0313\n",
      "Epoch 100/100\n",
      " - 3s - loss: 0.0314\n"
     ]
    },
    {
     "data": {
      "text/plain": [
       "<keras.callbacks.History at 0x7fe49de73a20>"
      ]
     },
     "execution_count": 149,
     "metadata": {},
     "output_type": "execute_result"
    }
   ],
   "source": [
    "mdl = Sequential()\n",
    "mdl.add(Dense(3, input_shape=(train_X.shape[1], train_X.shape[2]), activation='relu'))\n",
    "mdl.add(LSTM(6, activation='relu'))\n",
    "mdl.add(Dense(1, activation='relu'))\n",
    "mdl.compile(loss='mean_squared_error', optimizer='adam')\n",
    "mdl.fit(train_X, train_y, epochs=100, batch_size=1, verbose=2)"
   ]
  },
  {
   "cell_type": "code",
   "execution_count": 150,
   "metadata": {
    "collapsed": true
   },
   "outputs": [],
   "source": [
    "train_predict = mdl.predict(train_X)\n",
    "test_predict = mdl.predict(test_X)"
   ]
  },
  {
   "cell_type": "code",
   "execution_count": 153,
   "metadata": {},
   "outputs": [
    {
     "name": "stdout",
     "output_type": "stream",
     "text": [
      "[[ 0.59087783]\n",
      " [ 0.53334761]\n",
      " [ 0.55437827]\n",
      " [ 0.57641631]\n",
      " [ 0.60675329]]\n",
      "[ 0.64220601  0.62771672  0.63075477  0.63636357  0.63426024]\n"
     ]
    }
   ],
   "source": [
    "print(test_predict[-5:])\n",
    "print(train_y[-5:])"
   ]
  },
  {
   "cell_type": "code",
   "execution_count": 154,
   "metadata": {
    "collapsed": true
   },
   "outputs": [],
   "source": [
    "test_X1 = test_X.reshape((test_X.shape[0], test_X.shape[2]))\n",
    "# invert scaling for forecast\n",
    "#inv_yhat = np.concatenate((yhat, test_X[:, 1:]), axis=1)\n",
    "inv_yhat = np.concatenate((test_predict, test_X1), axis=1)"
   ]
  },
  {
   "cell_type": "code",
   "execution_count": 155,
   "metadata": {},
   "outputs": [
    {
     "name": "stdout",
     "output_type": "stream",
     "text": [
      "Test RMSE: 0.021\n"
     ]
    }
   ],
   "source": [
    "inv_yhat = scaler.inverse_transform(inv_yhat)\n",
    "inv_yhat = inv_yhat[:,0]\n",
    "# invert scaling for actual\n",
    "test_y = test_y.reshape((len(test_y), 1))\n",
    "#inv_y = np.concatenate((test_y, test_X[:, 1:]), axis=1)\n",
    "inv_y = np.concatenate((test_y, test_X1), axis=1)\n",
    "inv_y = scaler.inverse_transform(inv_y)\n",
    "inv_y = inv_y[:,0]\n",
    "# calculate RMSE\n",
    "rmse = np.sqrt(mean_squared_error(inv_y, inv_yhat))\n",
    "print('Test RMSE: %.3f' % rmse)"
   ]
  },
  {
   "cell_type": "code",
   "execution_count": 156,
   "metadata": {},
   "outputs": [
    {
     "data": {
      "text/plain": [
       "array([ 0.13194779,  0.12848453,  0.12377902,  0.13032909,  0.12362846], dtype=float32)"
      ]
     },
     "execution_count": 156,
     "metadata": {},
     "output_type": "execute_result"
    }
   ],
   "source": [
    "inv_y[-5:]"
   ]
  },
  {
   "cell_type": "code",
   "execution_count": 158,
   "metadata": {},
   "outputs": [
    {
     "data": {
      "text/plain": [
       "mid          float64\n",
       "vol_3day     float64\n",
       "vol_15day    float64\n",
       "prop2        float64\n",
       "prop5        float64\n",
       "prop15       float64\n",
       "dtype: object"
      ]
     },
     "execution_count": 158,
     "metadata": {},
     "output_type": "execute_result"
    }
   ],
   "source": [
    "var_df1.dtypes"
   ]
  },
  {
   "cell_type": "code",
   "execution_count": 159,
   "metadata": {},
   "outputs": [
    {
     "data": {
      "text/plain": [
       "time\n",
       "2018-05-01 20:00:00    0.026920\n",
       "2018-05-02 20:00:00    0.026030\n",
       "2018-05-03 20:00:00    0.025165\n",
       "2018-05-04 20:00:00    0.024820\n",
       "2018-05-05 20:00:00    0.024440\n",
       "Name: mid, dtype: float64"
      ]
     },
     "execution_count": 159,
     "metadata": {},
     "output_type": "execute_result"
    }
   ],
   "source": [
    "var_df1['mid'].tail()"
   ]
  },
  {
   "cell_type": "code",
   "execution_count": 146,
   "metadata": {},
   "outputs": [
    {
     "name": "stdout",
     "output_type": "stream",
     "text": [
      "Train on 200 samples, validate on 27 samples\n",
      "Epoch 1/50\n",
      " - 1s - loss: 0.4942 - val_loss: 0.6507\n",
      "Epoch 2/50\n",
      " - 0s - loss: 0.4437 - val_loss: 0.6048\n",
      "Epoch 3/50\n",
      " - 0s - loss: 0.3964 - val_loss: 0.5596\n",
      "Epoch 4/50\n",
      " - 0s - loss: 0.3559 - val_loss: 0.5160\n",
      "Epoch 5/50\n",
      " - 0s - loss: 0.3280 - val_loss: 0.4749\n",
      "Epoch 6/50\n",
      " - 0s - loss: 0.3081 - val_loss: 0.4363\n",
      "Epoch 7/50\n",
      " - 0s - loss: 0.2940 - val_loss: 0.4015\n",
      "Epoch 8/50\n",
      " - 0s - loss: 0.2841 - val_loss: 0.3697\n",
      "Epoch 9/50\n",
      " - 0s - loss: 0.2768 - val_loss: 0.3411\n",
      "Epoch 10/50\n",
      " - 0s - loss: 0.2709 - val_loss: 0.3151\n",
      "Epoch 11/50\n",
      " - 0s - loss: 0.2657 - val_loss: 0.2914\n",
      "Epoch 12/50\n",
      " - 0s - loss: 0.2615 - val_loss: 0.2696\n",
      "Epoch 13/50\n",
      " - 0s - loss: 0.2580 - val_loss: 0.2509\n",
      "Epoch 14/50\n",
      " - 0s - loss: 0.2552 - val_loss: 0.2348\n",
      "Epoch 15/50\n",
      " - 0s - loss: 0.2532 - val_loss: 0.2209\n",
      "Epoch 16/50\n",
      " - 0s - loss: 0.2515 - val_loss: 0.2104\n",
      "Epoch 17/50\n",
      " - 0s - loss: 0.2495 - val_loss: 0.2013\n",
      "Epoch 18/50\n",
      " - 0s - loss: 0.2474 - val_loss: 0.1936\n",
      "Epoch 19/50\n",
      " - 0s - loss: 0.2451 - val_loss: 0.1867\n",
      "Epoch 20/50\n",
      " - 0s - loss: 0.2427 - val_loss: 0.1804\n",
      "Epoch 21/50\n",
      " - 0s - loss: 0.2403 - val_loss: 0.1749\n",
      "Epoch 22/50\n",
      " - 0s - loss: 0.2379 - val_loss: 0.1701\n",
      "Epoch 23/50\n",
      " - 0s - loss: 0.2355 - val_loss: 0.1661\n",
      "Epoch 24/50\n",
      " - 0s - loss: 0.2331 - val_loss: 0.1625\n",
      "Epoch 25/50\n",
      " - 0s - loss: 0.2308 - val_loss: 0.1595\n",
      "Epoch 26/50\n",
      " - 0s - loss: 0.2286 - val_loss: 0.1569\n",
      "Epoch 27/50\n",
      " - 0s - loss: 0.2264 - val_loss: 0.1543\n",
      "Epoch 28/50\n",
      " - 0s - loss: 0.2242 - val_loss: 0.1517\n",
      "Epoch 29/50\n",
      " - 0s - loss: 0.2221 - val_loss: 0.1491\n",
      "Epoch 30/50\n",
      " - 0s - loss: 0.2201 - val_loss: 0.1466\n",
      "Epoch 31/50\n",
      " - 0s - loss: 0.2182 - val_loss: 0.1442\n",
      "Epoch 32/50\n",
      " - 0s - loss: 0.2163 - val_loss: 0.1421\n",
      "Epoch 33/50\n",
      " - 0s - loss: 0.2144 - val_loss: 0.1401\n",
      "Epoch 34/50\n",
      " - 0s - loss: 0.2125 - val_loss: 0.1388\n",
      "Epoch 35/50\n",
      " - 0s - loss: 0.2106 - val_loss: 0.1375\n",
      "Epoch 36/50\n",
      " - 0s - loss: 0.2088 - val_loss: 0.1362\n",
      "Epoch 37/50\n",
      " - 0s - loss: 0.2069 - val_loss: 0.1348\n",
      "Epoch 38/50\n",
      " - 0s - loss: 0.2051 - val_loss: 0.1335\n",
      "Epoch 39/50\n",
      " - 0s - loss: 0.2034 - val_loss: 0.1324\n",
      "Epoch 40/50\n",
      " - 0s - loss: 0.2018 - val_loss: 0.1320\n",
      "Epoch 41/50\n",
      " - 0s - loss: 0.2003 - val_loss: 0.1320\n",
      "Epoch 42/50\n",
      " - 0s - loss: 0.1990 - val_loss: 0.1325\n",
      "Epoch 43/50\n",
      " - 0s - loss: 0.1978 - val_loss: 0.1334\n",
      "Epoch 44/50\n",
      " - 0s - loss: 0.1965 - val_loss: 0.1346\n",
      "Epoch 45/50\n",
      " - 0s - loss: 0.1952 - val_loss: 0.1358\n",
      "Epoch 46/50\n",
      " - 0s - loss: 0.1939 - val_loss: 0.1371\n",
      "Epoch 47/50\n",
      " - 0s - loss: 0.1925 - val_loss: 0.1385\n",
      "Epoch 48/50\n",
      " - 0s - loss: 0.1911 - val_loss: 0.1399\n",
      "Epoch 49/50\n",
      " - 0s - loss: 0.1898 - val_loss: 0.1412\n",
      "Epoch 50/50\n",
      " - 0s - loss: 0.1886 - val_loss: 0.1423\n"
     ]
    },
    {
     "data": {
      "image/png": "[encoded data removed]",
      "text/plain": [
       "<matplotlib.figure.Figure at 0x7fe49eca1be0>"
      ]
     },
     "metadata": {},
     "output_type": "display_data"
    }
   ],
   "source": [
    "# design network\n",
    "model = Sequential()\n",
    "model.add(LSTM(50, input_shape=(train_X.shape[1], train_X.shape[2])))\n",
    "model.add(Dense(1))\n",
    "model.compile(loss='mae', optimizer='adam')\n",
    "# fit network... can play with the batch size and epochs parameters\n",
    "history = model.fit(train_X, train_y, epochs=50, batch_size=72, validation_data=(test_X, test_y), verbose=2, shuffle=False)\n",
    "# plot history\n",
    "plt.plot(history.history['loss'], label='train')\n",
    "plt.plot(history.history['val_loss'], label='test')\n",
    "plt.legend()\n",
    "plt.show()"
   ]
  },
  {
   "cell_type": "markdown",
   "metadata": {},
   "source": [
    "There is evidence of model overfitting as the training error is above the test error."
   ]
  },
  {
   "cell_type": "code",
   "execution_count": 77,
   "metadata": {},
   "outputs": [
    {
     "data": {
      "text/plain": [
       "(27, 1, 15)"
      ]
     },
     "execution_count": 77,
     "metadata": {},
     "output_type": "execute_result"
    }
   ],
   "source": [
    "test_X.shape"
   ]
  },
  {
   "cell_type": "code",
   "execution_count": 147,
   "metadata": {
    "collapsed": true
   },
   "outputs": [],
   "source": [
    "# make a prediction\n",
    "yhat = model.predict(test_X)"
   ]
  },
  {
   "cell_type": "code",
   "execution_count": 148,
   "metadata": {},
   "outputs": [
    {
     "data": {
      "text/plain": [
       "array([[ 0.5400731 ],\n",
       "       [ 0.53518277],\n",
       "       [ 0.54108697],\n",
       "       [ 0.50530308],\n",
       "       [ 0.50574267]], dtype=float32)"
      ]
     },
     "execution_count": 148,
     "metadata": {},
     "output_type": "execute_result"
    }
   ],
   "source": [
    "yhat[-5:]"
   ]
  },
  {
   "cell_type": "code",
   "execution_count": 139,
   "metadata": {},
   "outputs": [
    {
     "data": {
      "text/plain": [
       "array([[ 0.72470194],\n",
       "       [ 0.70320159],\n",
       "       [ 0.67398912],\n",
       "       [ 0.71465284],\n",
       "       [ 0.6730544 ]], dtype=float32)"
      ]
     },
     "execution_count": 139,
     "metadata": {},
     "output_type": "execute_result"
    }
   ],
   "source": [
    "test_y[-5:] #this is extremely far off from the predictions"
   ]
  },
  {
   "cell_type": "code",
   "execution_count": 122,
   "metadata": {},
   "outputs": [],
   "source": [
    "test_X1 = test_X.reshape((test_X.shape[0], test_X.shape[2]))\n",
    "# invert scaling for forecast\n",
    "#inv_yhat = np.concatenate((yhat, test_X[:, 1:]), axis=1)\n",
    "inv_yhat = np.concatenate((yhat, test_X1), axis=1)"
   ]
  },
  {
   "cell_type": "markdown",
   "metadata": {},
   "source": [
    "We have the prediction, now we need reverse engineer the output to arrive at daily prices - the objective of our prediction."
   ]
  },
  {
   "cell_type": "code",
   "execution_count": 123,
   "metadata": {},
   "outputs": [
    {
     "name": "stdout",
     "output_type": "stream",
     "text": [
      "Test RMSE: 0.028\n"
     ]
    }
   ],
   "source": [
    "inv_yhat = scaler.inverse_transform(inv_yhat)\n",
    "inv_yhat = inv_yhat[:,0]\n",
    "# invert scaling for actual\n",
    "test_y = test_y.reshape((len(test_y), 1))\n",
    "#inv_y = np.concatenate((test_y, test_X[:, 1:]), axis=1)\n",
    "inv_y = np.concatenate((test_y, test_X1), axis=1)\n",
    "inv_y = scaler.inverse_transform(inv_y)\n",
    "inv_y = inv_y[:,0]\n",
    "# calculate RMSE\n",
    "rmse = np.sqrt(mean_squared_error(inv_y, inv_yhat))\n",
    "print('Test RMSE: %.3f' % rmse)"
   ]
  },
  {
   "cell_type": "code",
   "execution_count": 94,
   "metadata": {},
   "outputs": [
    {
     "data": {
      "text/plain": [
       "222    0.724702\n",
       "223    0.703202\n",
       "224    0.673989\n",
       "225    0.714653\n",
       "226    0.673054\n",
       "Name: var(t), dtype: float32"
      ]
     },
     "execution_count": 94,
     "metadata": {},
     "output_type": "execute_result"
    }
   ],
   "source": [
    "df['var(t)'].tail() # scaled"
   ]
  },
  {
   "cell_type": "code",
   "execution_count": 124,
   "metadata": {},
   "outputs": [
    {
     "data": {
      "text/plain": [
       "array([ 0.10310964,  0.10253119,  0.10048993,  0.09596902,  0.09790687], dtype=float32)"
      ]
     },
     "execution_count": 124,
     "metadata": {},
     "output_type": "execute_result"
    }
   ],
   "source": [
    "inv_yhat[-5:]"
   ]
  },
  {
   "cell_type": "code",
   "execution_count": 102,
   "metadata": {},
   "outputs": [
    {
     "data": {
      "text/plain": [
       "time\n",
       "2018-04-26 20:00:00    0.028255\n",
       "2018-04-27 20:00:00    0.027835\n",
       "2018-04-28 20:00:00    0.027135\n",
       "2018-04-29 20:00:00    0.026675\n",
       "2018-04-30 20:00:00    0.026050\n",
       "2018-05-01 20:00:00    0.026920\n",
       "2018-05-02 20:00:00    0.026030\n",
       "2018-05-03 20:00:00    0.025165\n",
       "2018-05-04 20:00:00    0.024820\n",
       "2018-05-05 20:00:00    0.024440\n",
       "Name: mid, dtype: float64"
      ]
     },
     "execution_count": 102,
     "metadata": {},
     "output_type": "execute_result"
    }
   ],
   "source": [
    "var_df1['mid'].tail(10) #these are offset from agg_df because of the lag effect"
   ]
  },
  {
   "cell_type": "code",
   "execution_count": 101,
   "metadata": {},
   "outputs": [
    {
     "data": {
      "text/plain": [
       "time\n",
       "2018-04-23 20:00:00    0.031030\n",
       "2018-04-24 20:00:00    0.028750\n",
       "2018-04-25 20:00:00    0.029950\n",
       "2018-04-26 20:00:00    0.028255\n",
       "2018-04-27 20:00:00    0.027835\n",
       "2018-04-28 20:00:00    0.027135\n",
       "2018-04-29 20:00:00    0.026675\n",
       "2018-04-30 20:00:00    0.026050\n",
       "2018-05-01 20:00:00    0.026920\n",
       "2018-05-02 20:00:00    0.026030\n",
       "Name: var(t), dtype: float64"
      ]
     },
     "execution_count": 101,
     "metadata": {},
     "output_type": "execute_result"
    }
   ],
   "source": [
    "agg_df['var(t)'].tail(10) #not scaled"
   ]
  },
  {
   "cell_type": "markdown",
   "metadata": {},
   "source": [
    "### Third Model Artificial Neural Network: Multilayer Perceptron Network"
   ]
  },
  {
   "cell_type": "markdown",
   "metadata": {},
   "source": [
    "It is stated that LSTM is not appropriate for time series... instead consider MLP with windows: http://dacatay.com/data-science/part-1-time-series-basics-python/"
   ]
  },
  {
   "cell_type": "code",
   "execution_count": null,
   "metadata": {
    "collapsed": true
   },
   "outputs": [],
   "source": [
    "#print(var_df1.dtypes)\n",
    "#print(testy.dtypes)\n",
    "\n",
    "#all dtypes to be converted to float32\n",
    "var_df1.values.astype('float32')\n",
    "testy.values.astype('float32')"
   ]
  },
  {
   "cell_type": "markdown",
   "metadata": {},
   "source": [
    "### When are logs appropriate?\n",
    "Small changes in the difference of natural logs can be interpreted as percentage changes with a very close approximation. "
   ]
  },
  {
   "cell_type": "code",
   "execution_count": null,
   "metadata": {
    "collapsed": true
   },
   "outputs": [],
   "source": [
    "math.log(1.05)"
   ]
  },
  {
   "cell_type": "markdown",
   "metadata": {},
   "source": [
    "Notice how the difference in the logs of the below are very close to the proportional/percentage difference. In this case we take the difference in logs of two numbers that are 5% apart. Recall that you cannot calculate the natural log of a negative number. One practical application is logging data before fitting a random walk. A logged data set yields a so-called geometric random walk--i.e., a random walk with geometric rather than linear growth. A geometric random walk is the default forecasting model that is commonly used for stock price data.\n",
    "\n",
    "Because changes in the natural logarithm are (almost) equal to percentage changes in the original series, it follows that the slope of a trend line fitted to logged data is equal to the average percentage growth in the original series. \n",
    "\n",
    "resource: https://people.duke.edu/~rnau/411log.htm"
   ]
  },
  {
   "cell_type": "code",
   "execution_count": null,
   "metadata": {
    "collapsed": true
   },
   "outputs": [],
   "source": [
    "price_chg=mro_df['low'][1:].as_matrix()/mro_df['low'][:-1].as_matrix()\n",
    "price_chg[0:4]"
   ]
  },
  {
   "cell_type": "code",
   "execution_count": null,
   "metadata": {
    "collapsed": true
   },
   "outputs": [],
   "source": [
    "price_log=np.log(price_chg)"
   ]
  },
  {
   "cell_type": "code",
   "execution_count": null,
   "metadata": {
    "collapsed": true
   },
   "outputs": [],
   "source": [
    "plt.close()\n",
    "plt.plot(price_log)\n",
    "plt.title('logged returns calculated as day(t) over day(t-1)')\n",
    "plt.show()"
   ]
  },
  {
   "cell_type": "code",
   "execution_count": null,
   "metadata": {
    "collapsed": true
   },
   "outputs": [],
   "source": [
    "plt.hist(price_log,bins=25)\n",
    "plt.show()"
   ]
  },
  {
   "cell_type": "code",
   "execution_count": null,
   "metadata": {
    "collapsed": true
   },
   "outputs": [],
   "source": [
    "mro_df.head()"
   ]
  },
  {
   "cell_type": "code",
   "execution_count": null,
   "metadata": {
    "collapsed": true
   },
   "outputs": [],
   "source": [
    "plt.close()\n",
    "plt.subplot(121)\n",
    "plt.plot(np.log(mro_df['low'].as_matrix()))\n",
    "plt.subplot(122)\n",
    "plt.plot(mro_df['low'])\n",
    "plt.xticks(rotation=45)\n",
    "plt.show()"
   ]
  },
  {
   "cell_type": "markdown",
   "metadata": {},
   "source": [
    "If prices are in logs, then the difference in prices are a good proxy for the percent change in price movement. The difference  in the logs of two different prices is the same as the log ratio of those prices:\n",
    "\n",
    "math.log(25)-math.log(20) = math.log(25/20)"
   ]
  },
  {
   "cell_type": "markdown",
   "metadata": {},
   "source": [
    "### Testing for random walk\n",
    "We make a distinction between a random walk and white noise. A random walk considers the price movement of an asset, while white noise is based on its returns. Today's price is yesterday's price plus some random noise - this is the random walk. White noise on the other hand can be distribution based - whereas deviations from historical returns can be compared to a mathematical/statistical distribution.\n",
    "Regress prices on a lag price. If the coefficient is not significantly different from 1, then we cannot reject the null hypothesis that it is a random walk. You can also apply a **Dickey-Fuller** test."
   ]
  },
  {
   "cell_type": "code",
   "execution_count": null,
   "metadata": {
    "collapsed": true
   },
   "outputs": [],
   "source": [
    "from statsmodels.tsa.stattools import adfuller"
   ]
  },
  {
   "cell_type": "code",
   "execution_count": null,
   "metadata": {
    "collapsed": true
   },
   "outputs": [],
   "source": [
    "results=adfuller(mro_df['mid'])\n",
    "print('the p-value is {}'.format(results[1]))\n",
    "print('This does not meet the 5% significance level, and so we cannot reject the null hypothesis that prices follow a random walk')"
   ]
  },
  {
   "cell_type": "markdown",
   "metadata": {},
   "source": [
    "### Stationarity\n",
    "There is strong form and semi-strong form - where the mean and variance are independent of time. White noise is stationary. Random walk is actually not stationary as the variance increases with time: we know a lot less about the possible values of a series a time far off in the future than we do one nearer in time. Lack of stationarity does not lend itself to modeling as the number of parameters is great to account for the changing nature of the mean and variance. We can make adjustments/transformations to the series to make it stationary. These include a mix of lag differences (appropriate for series with seasonalities) and log transforms to remove trended data."
   ]
  },
  {
   "cell_type": "markdown",
   "metadata": {},
   "source": [
    "### Using the autocorr\n",
    "Autocorrelation tests for correlation of a time series lagging the independent variable. A statistically significant autocorrelation statistic implies the absence of white noise... there is a non-random component to the path of returns. Removing this seasonality from the time series with a diff() application, can turn the series stationary. This can be tested by re-running the autocorr function acf()."
   ]
  }
 ],
 "metadata": {
  "kernelspec": {
   "display_name": "Python 3",
   "language": "python",
   "name": "python3"
  },
  "language_info": {
   "codemirror_mode": {
    "name": "ipython",
    "version": 3
   },
   "file_extension": ".py",
   "mimetype": "text/x-python",
   "name": "python",
   "nbconvert_exporter": "python",
   "pygments_lexer": "ipython3",
   "version": "3.6.3"
  }
 },
 "nbformat": 4,
 "nbformat_minor": 2
}
