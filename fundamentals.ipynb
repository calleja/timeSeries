{
 "cells": [
  {
   "cell_type": "code",
   "execution_count": 4,
   "metadata": {
    "collapsed": true
   },
   "outputs": [],
   "source": [
    "import matplotlib.pyplot as plt\n",
    "import numpy as np\n",
    "import pandas as pd"
   ]
  },
  {
   "cell_type": "markdown",
   "metadata": {},
   "source": [
    "### Stationarity\n",
    "\n",
    "There is strong form and semi-strong form - where the mean and variance are independent of time. White noise is stationary. Random walk is actually not stationary as the variance increases with time: we know a lot less about the possible values of a series a time far off in the future than we do one nearer in time. Lack of stationarity does not lend itself to modeling as the number of parameters is great to account for the changing nature of the mean and variance. We can make adjustments/transformations to the series to make it stationary. These include a mix of lag differences (appropriate for series with seasonalities) and log transforms to remove trended data.\n"
   ]
  },
  {
   "cell_type": "markdown",
   "metadata": {},
   "source": [
    "### Using the autocorr()\n",
    "Autocorrelation tests for correlation of a time series lagging the independent variable. A statistically significant autocorrelation statistic implies the absence of white noise... there is a non-random component to the path of returns. Removing this seasonality from the time series with a diff() application, can turn the series stationary. This can be tested by re-running the autocorr function acf()."
   ]
  },
  {
   "cell_type": "markdown",
   "metadata": {},
   "source": [
    "difference between a random walk and white noise... returns can be analyzed via probabilities;\n",
    "stock price is more a random walk but with a base value... and follows an additive model"
   ]
  },
  {
   "cell_type": "markdown",
   "metadata": {},
   "source": [
    "random walk: P(t) = P(t-1) + noise, ie realization of a statistical distribution... the difference in today's price to yesterday's is white noise. Recall that if you take the log of the nominal value of a stock, then take the difference of logged prices - that serves as an approximation to returns. You cannot forecast a random walk. \n",
    "Some expressions of random walks have drift: P(t) = drift constant + P(t-1) + white noise value\n",
    "Subsequenty: P(t) - P(t-1) = drift constant + white noise value... which will have average return of the drift constant instead of 0\n",
    "white noise = \n",
    "white noise has constant mean and constant variance and 0 autocorrelation at all lags... making this the perfect case of stationary. Stock market RETURNS are a good expression of white noise.\n",
    "Random walk is an additive series"
   ]
  },
  {
   "cell_type": "markdown",
   "metadata": {},
   "source": [
    "### TESTS FOR RANDOM WALK \n",
    "regress prices over some lag of prices... if the coefficient is significantly less than 1 then we have evidence that the series is not a random walk; regression equation: $P_{t} = intercept + \\rho*P_{t-1} + \\epsilon$... this is same as the random walk equation when the coefficient = 1. Otherwise stated, if the coefficient term is equal to 1, there is presence of a unit root and the series is non stationary.\n",
    "An identical test for random walk: regress the difference in price P(t) - P(t-1) on the lag price. The hypothesis test in this permutation is based on a coefficient of 0, wherein a coefficient significantly less than 0 indicates a lack of random walk. This is a **Dickey-Fuller** test. **Augmented DF** test includes more lags on the right hand side of the equation. \n",
    "Augmented DF is part of the statsmodels.tsa.stattools package. Here, we're interested in the p-value of the test. adfuller() is to be run on a series of prices. If the p-value is above a certain threshhold, we cannot reject the null hypothesis that there is a unit root. Presence of a unit root requires differencing to arrive at stationarity. **Absence of a unit root is a proxy for stationarity.** For example, the mean can be increasing/decreasing over time. The null hypothesis of DF test is that a unit root is present in the autoregressive model. The alternative hypothesis is typically a variant of stationarity."
   ]
  },
  {
   "cell_type": "markdown",
   "metadata": {},
   "source": [
    "Three kinds of DF tests:\n",
    "1. Test for a unit root\n",
    "2. Test for a unit root with drift\n",
    "3. test for a unit root with drift AND deterministic time trend\n",
    "\n",
    "All three set the first difference of the value as the dependent variable. For each permutation, the null hypothesis is that there is a unit root = 0. Recall that a unit root in this framework is represented by a 0 coefficient, but takes on the form a '1' in the standard random walk equation:\n",
    "$Y_{t}=\\delta +\\rho*Y_{t-1} +\\epsilon$.  The above permutations set the dependent variable to $\\Delta$Y... this can be arrived at by subtracting $Y_{t-1}$ from both sides of the equation.\n"
   ]
  },
  {
   "cell_type": "markdown",
   "metadata": {},
   "source": [
    "Autocorrelation: delayed/lagged correlation of a given series... delayed some specific number of time units. Patterns of autocorrelation can take the form of plotted residuals or values by time. Imposing a transformation of autocorrelated data removes the autocorrelation and converts the series to a stationary one."
   ]
  },
  {
   "cell_type": "markdown",
   "metadata": {},
   "source": [
    "Stationarity: statistical properties (mean, variance) are constant over time.\n",
    "Transformations to bring a dataset into stationarity:\n",
    "a) remove the underlying trend of a trend stationary process - the trend is solely a function of time\n",
    "b) A process with one or more unit roots can be made stationary through differencing\n",
    "Ex.s of a stationary process: white noise, discrete-time stationary process with continuous sample space: autoregressive and moving average processes"
   ]
  },
  {
   "cell_type": "markdown",
   "metadata": {},
   "source": [
    "Notable violations of stationarity: seasonality, random walk (has a growing variance with time), white noise with a drift constant\n",
    "\n",
    "Transformations: apply a log to prices to eliminate exponential growth, and therefore a growing variance in price over time"
   ]
  },
  {
   "cell_type": "markdown",
   "metadata": {},
   "source": [
    "### AR MODELS\n",
    "P(t) = mean + coefficient\\*P(t-1) + error term (can be white noise)...\n",
    "Coefficients: if 1 = the model and series is random walk; if 0, the process is white noise.\n",
    "For stationarity and stability, the coefficient has to be between -1 and +1\n",
    "Interpretation of the coefficient: if <0, the series exhibits mean reversion; if positive, it exhibits momentum. The videos only walk through examples where the coefficient is between -1 and +1. Keep in mind that a coefficient near +1 despite exhibiting momentum, will strongly appear as a random walk.\n",
    "Despite the emphasis on stationarity, it appears as though an AR model can be applied to a series with some minor violations as a grid from the video displays some significant levels of autocorrelation with the sample series. RELATIONSHIP: autocorrelation has exponential decay by a factor of the coefficient, whereby the statistic for day three = coefficient^3\n",
    "\n",
    "The example provided in the lecture fits an AR1 model on stock returns.\n",
    "\n",
    "Interpreting the coefficient: if negative, the series exhibits mean reversion, if positive, the series exhibits momentum. Bear in mind, the coefficient should still have a value between -1 and 1. Even with this restrictive parameter,  autocorrelation graphs like those available from plot_acf() will exhibit significant autocorrelation at different lags. The closer to 0 the coefficient, the nearer to 0 will be the autocorrelation statistics per a given lag - getting closer to 0 as time moves outward."
   ]
  },
  {
   "cell_type": "markdown",
   "metadata": {},
   "source": [
    "To prove this last point, we simulate time series with a given coefficient. The blow is provided with a coefficient of 0.9 (fed into the function with a reverse sign per convention)"
   ]
  },
  {
   "cell_type": "code",
   "execution_count": null,
   "metadata": {
    "collapsed": true
   },
   "outputs": [],
   "source": [
    "from statsmodels.tsa.arima_process import ArmaProcess\n",
    "from statsmodels.graphics.tsaplots import plot_acf"
   ]
  },
  {
   "cell_type": "code",
   "execution_count": 13,
   "metadata": {},
   "outputs": [
    {
     "data": {
      "image/png": "[encoded data removed]",
      "text/plain": [
       "<matplotlib.figure.Figure at 0xb0a4400>"
      ]
     },
     "metadata": {},
     "output_type": "display_data"
    }
   ],
   "source": [
    "plt.close()\n",
    "# Plot 1: AR parameter = +0.9\n",
    "ar1 = np.array([1, -0.9])\n",
    "ma1 = np.array([1])\n",
    "AR_object1 = ArmaProcess(ar1, ma1)\n",
    "simulated_data_1 = AR_object1.generate_sample(nsample=1000)\n",
    "plot_acf(simulated_data_1,lags=20,alpha=.05)\n",
    "plt.show()"
   ]
  },
  {
   "cell_type": "code",
   "execution_count": 14,
   "metadata": {},
   "outputs": [
    {
     "data": {
      "image/png": "[encoded data removed]",
      "text/plain": [
       "<matplotlib.figure.Figure at 0xb0dd6a0>"
      ]
     },
     "metadata": {},
     "output_type": "display_data"
    }
   ],
   "source": [
    "plt.plot(simulated_data_1)\n",
    "plt.title('AR process with 0.9 coefficient')\n",
    "plt.show()"
   ]
  },
  {
   "cell_type": "markdown",
   "metadata": {},
   "source": [
    "### ESTIMATING AN AR MODEL\n",
    "from statsmodels.tsa.arima_model import ARMA\n",
    "Parameters - the order number: order=(1,0) is an AR1 model\n",
    "Among others, included in the model output is a 'constant' term which serves as intercept, and \"ar.L1.y\" which serves as the coefficient.\n",
    "FORECASTING AN AR MODEL\n",
    "requires instantiating the ARMA class with the data and order parameter, then eventually calling the 'plot_predict' function along with a start and end parameter."
   ]
  },
  {
   "cell_type": "markdown",
   "metadata": {},
   "source": [
    "#### Techniques to determine order of an AR model\n",
    "1. Partial Autocorrelation Function\n",
    "2. Information Criteria\n",
    "\n",
    "Number 1 measures the incremental benefit of adding another lag to the AR model, ex. an AR3 from an AR4. Interpreting the coefficients: each coefficient is the significance to adding an xth lag to a model that has x-1th lags. This can be plotted in python with **plot_pacf**. You would plot the significance of the lags per model. Interpretation: An PACF run on an AR1 model would take as give that the model includes 1 lag, and calculated significance of more lags.\n",
    "\n",
    "Number 2 addresses one risk of model complexity: **overfitting**. The information criteria adjusts goodness-of-fit for number of parameters by imposing a penalty on the number of parameters used. Two popular adjusted goodness-of-fit measures:\n",
    "- AIC\n",
    "- BIC\n",
    "These are provided in the model fit summary of an AR model. In practice, you fit several models each with different number of parameters and select the model with the lowest BIC."
   ]
  },
  {
   "cell_type": "markdown",
   "metadata": {},
   "source": [
    "#### Examples of model fit estimation"
   ]
  },
  {
   "cell_type": "code",
   "execution_count": 15,
   "metadata": {},
   "outputs": [
    {
     "data": {
      "image/png": "[encoded data removed]",
      "text/plain": [
       "<matplotlib.figure.Figure at 0xae09828>"
      ]
     },
     "metadata": {},
     "output_type": "display_data"
    }
   ],
   "source": [
    "from statsmodels.tsa.arima_process import ArmaProcess\n",
    "from statsmodels.graphics.tsaplots import plot_pacf\n",
    "# Simulate AR(1) with phi=+0.6... remember that the sign is reversed in the function call\n",
    "ma = np.array([1])\n",
    "ar = np.array([1, -0.6])\n",
    "AR_object = ArmaProcess(ar, ma)\n",
    "simulated_data_1 = AR_object.generate_sample(nsample=5000)\n",
    "\n",
    "#plot PACF for AR(1)\n",
    "plot_pacf(simulated_data_1,lags=20)\n",
    "plt.show()"
   ]
  },
  {
   "cell_type": "markdown",
   "metadata": {},
   "source": [
    "In the above we expected a PACF graph that only shows a significant autocorrelation calc at the first lag as the data was simulated from ARIMA parameters with one significant lag having a coeffcient of +0.6"
   ]
  },
  {
   "cell_type": "markdown",
   "metadata": {},
   "source": [
    "#### How many parameters should I include in my AR model?\n",
    "AIC and BIC to the rescue. Will compare these values across multiple model permutations. The loop below fits models of differing orders, then plots the BIC in a graph. The optimal number is associated with the lowest BIC value."
   ]
  },
  {
   "cell_type": "code",
   "execution_count": null,
   "metadata": {
    "collapsed": true
   },
   "outputs": [],
   "source": [
    "# Import the module for estimating an ARMA model\n",
    "from statsmodels.tsa.arima_model import ARMA\n",
    "\n",
    "# Fit the data to an AR(p) for p = 0,...,6 , and save the BIC\n",
    "BIC = np.zeros(7)\n",
    "for p in range(7):\n",
    "    mod = ARMA(simulated_data_2, order=(p,0))\n",
    "    res = mod.fit()\n",
    "# Save BIC for AR(p)    \n",
    "    BIC[p] = res.bic\n",
    "    \n",
    "# Plot the BIC as a function of p\n",
    "plt.plot(range(1,7), BIC[1:7], marker='o')\n",
    "plt.xlabel('Order of AR Model')\n",
    "plt.ylabel('Baysian Information Criterion')\n",
    "plt.show()"
   ]
  },
  {
   "cell_type": "markdown",
   "metadata": {},
   "source": [
    "## MA Models\n",
    "Considering lagged error terms or shocks.\n",
    "\n",
    "$R_{t} = \\mu + \\epsilon_{t}1 + \\theta \\epsilon_{t-1}$\n",
    "\n",
    "$\\mu$ = average\n",
    "$\\epsilon$ = shocks from a particular period\n",
    "\n",
    "If $\\theta$ = 0, then the process is white noise.\n",
    "\n",
    "MA models are staionary for all values of $\\theta$.\n",
    "\n",
    "The video goes over a series of stock returns. Negative and positive $\\theta \\epsilon_{t-1}$ values:\n",
    "- negative: a positive shock last period ($\\epsilon _{t-1}$) would have caused last period's returns to be positive, but this period's return's would most likely be negative. This is known as one-period mean reversion\n",
    "- postive: one-period momentum\n"
   ]
  },
  {
   "cell_type": "markdown",
   "metadata": {},
   "source": [
    "#### Measuring autocorrelation for MA models\n",
    "Note: one-period autocorrelation is $\\theta/(1+\\theta^2)$, not $\\theta$"
   ]
  },
  {
   "cell_type": "markdown",
   "metadata": {},
   "source": [
    "### OLS MODELS \n",
    "Used to estimate the slope coefficients of the autoregressive model. Application assumes that the stochastic process is stationary. If the process is not stationary, the use of OLS can produce invalid estimates. I believe that before commencing on application of an OLS model, stationarity should be tested via a Dickey-Fuller test. If there is evidence of a unit root, some combination of logging and differencing can convert the series to a stationary one."
   ]
  },
  {
   "cell_type": "markdown",
   "metadata": {},
   "source": [
    "### Concerns and shortfalls\n",
    "Overfitting data"
   ]
  },
  {
   "cell_type": "markdown",
   "metadata": {},
   "source": [
    "### Assignment 3 Requirements\n",
    "You are selecting at least 2 cryptos and for each you will have 2 columns populated in the P/L table. Each of those 2 columns uses an algorithm and predicts the prices for those 2 cryptos. Whether they appear if a user has bought them or not is a design decision that wont impact your grade, i.e. you can do it either way"
   ]
  },
  {
   "cell_type": "markdown",
   "metadata": {},
   "source": [
    "### Resources\n",
    "- Time series basics with pandas: https://www.youtube.com/watch?v=OwnaUVt6VVE\n",
    "- sci-kit learn ts: https://towardsdatascience.com/time-series-analysis-in-python-an-introduction-70d5a5b1d52a\n",
    "- R: https://www.analyticsvidhya.com/blog/2015/12/complete-tutorial-time-series-modeling/\n",
    "- python: https://www.analyticsvidhya.com/blog/2016/02/time-series-forecasting-codes-python/"
   ]
  }
 ],
 "metadata": {
  "kernelspec": {
   "display_name": "Python 3",
   "language": "python",
   "name": "python3"
  },
  "language_info": {
   "codemirror_mode": {
    "name": "ipython",
    "version": 3
   },
   "file_extension": ".py",
   "mimetype": "text/x-python",
   "name": "python",
   "nbconvert_exporter": "python",
   "pygments_lexer": "ipython3",
   "version": "3.6.3"
  }
 },
 "nbformat": 4,
 "nbformat_minor": 2
}
